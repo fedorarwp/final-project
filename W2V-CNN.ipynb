{
  "cells": [
    {
      "cell_type": "markdown",
      "source": [
        "fefe labeled"
      ],
      "metadata": {
        "id": "NI7fzyJIcCwW"
      }
    },
    {
      "cell_type": "code",
      "execution_count": null,
      "metadata": {
        "id": "r6bX_HhfHbSC"
      },
      "outputs": [],
      "source": [
        "import numpy as np\n",
        "import pandas as pd\n",
        "from gensim.models import Word2Vec\n",
        "from collections import defaultdict\n",
        " \n",
        "import matplotlib.pyplot as plt\n",
        " \n",
        "import sklearn\n",
        "from sklearn.model_selection import train_test_split\n",
        " \n",
        "import tensorflow as tf\n",
        "from tensorflow.keras.models import load_model\n",
        "from tensorflow.keras.utils import plot_model\n",
        "from tensorflow.keras import models\n",
        "from tensorflow.keras import callbacks\n",
        "from tensorflow.keras import regularizers\n",
        "from tensorflow.keras.callbacks import ModelCheckpoint, EarlyStopping\n",
        "from tensorflow.keras.preprocessing.text import Tokenizer\n",
        "from tensorflow.keras.preprocessing.sequence import pad_sequences\n",
        "from tensorflow.keras.utils import to_categorical\n",
        "from tensorflow.keras.models import Sequential\n",
        "from tensorflow.keras.layers import Dense, Embedding, Activation, Dropout, Flatten\n",
        "from tensorflow.keras.layers import Conv1D, GlobalMaxPooling1D, MaxPooling1D"
      ]
    },
    {
      "cell_type": "code",
      "execution_count": null,
      "metadata": {
        "colab": {
          "base_uri": "https://localhost:8080/"
        },
        "id": "_BbOc1Rz53s2",
        "outputId": "ec9e8d72-e29d-4df6-c94f-4a0311d6509c"
      },
      "outputs": [
        {
          "output_type": "stream",
          "name": "stdout",
          "text": [
            "Drive already mounted at /content/gdrive; to attempt to forcibly remount, call drive.mount(\"/content/gdrive\", force_remount=True).\n"
          ]
        }
      ],
      "source": [
        "from google.colab import drive\n",
        "\n",
        "drive.mount(\"/content/gdrive\")\n",
        "DATA_PATH: str = \"/content/gdrive/My Drive/skripsi/preprocessed_newerer/\"\n",
        "DATA_TUNER: str = \"/content/gdrive/My Drive/skripsi/tuner/\"\n",
        "DATA_WEIGHT: str = \"/content/gdrive/My Drive/skripsi/weight/\""
      ]
    },
    {
      "cell_type": "code",
      "execution_count": null,
      "metadata": {
        "id": "Hq-Qy6gs61P-"
      },
      "outputs": [],
      "source": [
        "import pandas as pd"
      ]
    },
    {
      "cell_type": "code",
      "execution_count": null,
      "metadata": {
        "id": "Q_wGy2ec6KZk"
      },
      "outputs": [],
      "source": [
        "datatrain = pd.read_csv(f'{DATA_PATH}data_train9010.csv')\n",
        "dataval = pd.read_csv(f'{DATA_PATH}data_val9010.csv')\n",
        "datatest = pd.read_csv(f'{DATA_PATH}data_test9010.csv')\n",
        "\n",
        "data_train = datatrain['tweets']\n",
        "data_val = dataval['tweets']\n",
        "data_test = datatest['tweets']\n",
        "\n",
        "y_train = datatrain['label']\n",
        "y_val = dataval['label']\n",
        "y_test = datatest['label']"
      ]
    },
    {
      "cell_type": "code",
      "execution_count": null,
      "metadata": {
        "colab": {
          "base_uri": "https://localhost:8080/"
        },
        "id": "gU_GZkzYK3KZ",
        "outputId": "7a5bb405-01a7-419b-c27e-05daf950e33f"
      },
      "outputs": [
        {
          "output_type": "execute_result",
          "data": {
            "text/plain": [
              "0    presiden joko widodo jokowi tinjau vaksinasi m...\n",
              "1    ini jelas untuk anda yang sudah di vaksin tapi...\n",
              "2    masalah benar bukan pada vaksinasi lain bagaim...\n",
              "3                ayo vaksin dan terap prokes dengan 5m\n",
              "4       astrazeneca masalah tetap pakai oleh australia\n",
              "Name: tweets, dtype: object"
            ]
          },
          "metadata": {},
          "execution_count": 193
        }
      ],
      "source": [
        "data_train.head()"
      ]
    },
    {
      "cell_type": "code",
      "execution_count": null,
      "metadata": {
        "colab": {
          "base_uri": "https://localhost:8080/"
        },
        "id": "mWj3OA0lK787",
        "outputId": "eb180011-5696-430a-90e2-f9ee8b6d4b6a"
      },
      "outputs": [
        {
          "output_type": "stream",
          "name": "stdout",
          "text": [
            "4    678\n",
            "3    639\n",
            "2    310\n",
            "1    294\n",
            "0    230\n",
            "Name: label, dtype: int64\n"
          ]
        }
      ],
      "source": [
        "print(datatrain['label'].value_counts())"
      ]
    },
    {
      "cell_type": "code",
      "execution_count": null,
      "metadata": {
        "colab": {
          "base_uri": "https://localhost:8080/"
        },
        "id": "RL5FBYRmLFHv",
        "outputId": "eafd671f-970d-497a-c428-e62076d2ed82"
      },
      "outputs": [
        {
          "output_type": "execute_result",
          "data": {
            "text/plain": [
              "0    vaksin bukan hanya untuk penting pribadi lain ...\n",
              "1                  vaksinasi bisa cegah virus covid 19\n",
              "2    india terlalu cepat puas diri vaksinasi massal...\n",
              "3    pakar farmasi kini kembang vaksin covid 19 gen...\n",
              "4    tim kembang vaksin covid 19 nusantara minta un...\n",
              "Name: tweets, dtype: object"
            ]
          },
          "metadata": {},
          "execution_count": 195
        }
      ],
      "source": [
        "data_val.head()"
      ]
    },
    {
      "cell_type": "code",
      "execution_count": null,
      "metadata": {
        "colab": {
          "base_uri": "https://localhost:8080/"
        },
        "id": "gfiFe2kVLII2",
        "outputId": "0c587c30-f952-420c-8fe9-5c8831b5490c"
      },
      "outputs": [
        {
          "output_type": "stream",
          "name": "stdout",
          "text": [
            "4    138\n",
            "3    124\n",
            "2     63\n",
            "1     59\n",
            "0     46\n",
            "Name: label, dtype: int64\n"
          ]
        }
      ],
      "source": [
        "print(dataval['label'].value_counts())"
      ]
    },
    {
      "cell_type": "code",
      "execution_count": null,
      "metadata": {
        "colab": {
          "base_uri": "https://localhost:8080/"
        },
        "id": "toV1xZi8LL1E",
        "outputId": "43e9a7dc-ccfb-4ffa-89df-b1919dfd67cd"
      },
      "outputs": [
        {
          "output_type": "execute_result",
          "data": {
            "text/plain": [
              "0                        vaksinasi massal layan publik\n",
              "1                                   bpom terbit vaksin\n",
              "2    daftar lansia di sekitar untuk segera vaksin c...\n",
              "3    mufti dari al azhar mesir dan saudi kompak nya...\n",
              "4                                      apa erti vaksin\n",
              "Name: tweets, dtype: object"
            ]
          },
          "metadata": {},
          "execution_count": 197
        }
      ],
      "source": [
        "data_test.head()"
      ]
    },
    {
      "cell_type": "code",
      "execution_count": null,
      "metadata": {
        "colab": {
          "base_uri": "https://localhost:8080/"
        },
        "id": "2ZWvXyuOLOrn",
        "outputId": "23c7b6e2-91a8-432b-f0d9-47742c80f971"
      },
      "outputs": [
        {
          "output_type": "stream",
          "name": "stdout",
          "text": [
            "4    91\n",
            "3    77\n",
            "1    49\n",
            "0    36\n",
            "2    34\n",
            "Name: label, dtype: int64\n"
          ]
        }
      ],
      "source": [
        "print(datatest['label'].value_counts())"
      ]
    },
    {
      "cell_type": "markdown",
      "metadata": {
        "id": "dNZmlXlj68Xu"
      },
      "source": [
        "# Defining Parameters"
      ]
    },
    {
      "cell_type": "code",
      "execution_count": null,
      "metadata": {
        "id": "JZH3OOrv7ACP"
      },
      "outputs": [],
      "source": [
        "x = datatrain[\"tweets\"].str.split(\"\\\\s+\")"
      ]
    },
    {
      "cell_type": "code",
      "execution_count": null,
      "metadata": {
        "id": "4HZ8wKwvPjqj"
      },
      "outputs": [],
      "source": [
        "sentences = [row.split() for row in datatrain['tweets']]\n",
        "word_freq = defaultdict(int)\n",
        "for sent in sentences:\n",
        "    for i in sent:\n",
        "        word_freq[i] += 1"
      ]
    },
    {
      "cell_type": "code",
      "execution_count": null,
      "metadata": {
        "colab": {
          "base_uri": "https://localhost:8080/"
        },
        "id": "VOovziwXPtGu",
        "outputId": "a126be57-097a-45b0-87f0-b4b16d512773"
      },
      "outputs": [
        {
          "output_type": "stream",
          "name": "stdout",
          "text": [
            "3057\n"
          ]
        }
      ],
      "source": [
        "vocab_size = len(word_freq)\n",
        "print(vocab_size)"
      ]
    },
    {
      "cell_type": "code",
      "execution_count": null,
      "metadata": {
        "colab": {
          "base_uri": "https://localhost:8080/"
        },
        "id": "ChfFvOcX7bK9",
        "outputId": "6eb16327-fb86-4210-9c73-35e176a2fbce"
      },
      "outputs": [
        {
          "output_type": "execute_result",
          "data": {
            "text/plain": [
              "48"
            ]
          },
          "metadata": {},
          "execution_count": 202
        }
      ],
      "source": [
        "max_length = x.str.len().max()\n",
        "max_length"
      ]
    },
    {
      "cell_type": "code",
      "execution_count": null,
      "metadata": {
        "id": "QA7gIiNF8Dl0"
      },
      "outputs": [],
      "source": [
        "embedding_dim = 400"
      ]
    },
    {
      "cell_type": "code",
      "execution_count": null,
      "metadata": {
        "colab": {
          "base_uri": "https://localhost:8080/"
        },
        "id": "YrCamXQH8Eyq",
        "outputId": "8b8e3ffd-08ed-4568-ed1a-48e1f251dc46"
      },
      "outputs": [
        {
          "output_type": "stream",
          "name": "stdout",
          "text": [
            "0       presiden joko widodo jokowi tinjau vaksinasi m...\n",
            "1       ini jelas untuk anda yang sudah di vaksin tapi...\n",
            "2       masalah benar bukan pada vaksinasi lain bagaim...\n",
            "3                   ayo vaksin dan terap prokes dengan 5m\n",
            "4          astrazeneca masalah tetap pakai oleh australia\n",
            "                              ...                        \n",
            "2146    vaksinasi covid 19 dosis 1 untuk nakes lansia ...\n",
            "2147                        mama juga tidak berani vaksin\n",
            "2148    sementara untuk lansia terima vaksin dosis per...\n",
            "2149    orang guru di jombang berontak tidak mau sunti...\n",
            "2150    perintah terus upaya untuk kembang dan laku ad...\n",
            "Name: tweets, Length: 2151, dtype: object\n"
          ]
        }
      ],
      "source": [
        "print(data_train)"
      ]
    },
    {
      "cell_type": "markdown",
      "metadata": {
        "id": "R4REf06p8LVp"
      },
      "source": [
        "# To Vector"
      ]
    },
    {
      "cell_type": "code",
      "execution_count": null,
      "metadata": {
        "colab": {
          "base_uri": "https://localhost:8080/"
        },
        "id": "8UR9IapL8Pun",
        "outputId": "2cffd607-4384-4d2f-b09c-93441f11fda0"
      },
      "outputs": [
        {
          "output_type": "stream",
          "name": "stderr",
          "text": [
            "/usr/local/lib/python3.7/dist-packages/ipykernel_launcher.py:10: DeprecationWarning: Call to deprecated `wv` (Attribute will be removed in 4.0.0, use self instead).\n",
            "  # Remove the CWD from sys.path while we load stuff.\n",
            "/usr/local/lib/python3.7/dist-packages/ipykernel_launcher.py:11: DeprecationWarning: Call to deprecated `wv` (Attribute will be removed in 4.0.0, use self instead).\n",
            "  # This is added back by InteractiveShellApp.init_path()\n"
          ]
        }
      ],
      "source": [
        "import gensim\n",
        "from tensorflow.keras.preprocessing.text import Tokenizer\n",
        "from tensorflow.keras.preprocessing.sequence import pad_sequences\n",
        "from gensim.models import KeyedVectors\n",
        "import numpy as np\n",
        "\n",
        "model = KeyedVectors.load_word2vec_format('/content/gdrive/MyDrive/skripsi/preprocessed/after_stemmed/Word2Vec_400dim.txt')\n",
        "\n",
        "embeddings_index={}\n",
        "for word in model.wv.vocab.keys():\n",
        "    embeddings_index[word]=model.wv[word]"
      ]
    },
    {
      "cell_type": "code",
      "execution_count": null,
      "metadata": {
        "id": "ChhvAoB59If0"
      },
      "outputs": [],
      "source": [
        "tokenizer = Tokenizer(num_words = vocab_size)\n",
        "def encode(text):\n",
        "    return tokenizer.texts_to_sequences(text)"
      ]
    },
    {
      "cell_type": "code",
      "execution_count": null,
      "metadata": {
        "id": "pTrlDhR6FkvA"
      },
      "outputs": [],
      "source": [
        "tokenizer.fit_on_texts(data_train)\n",
        "\n",
        "train_sequences = encode(data_train)\n",
        "train_padded = pad_sequences(train_sequences, maxlen=max_length, padding='post')\n",
        "\n",
        "test_sequences = encode(data_test)\n",
        "test_padded = pad_sequences(test_sequences, maxlen=max_length, padding='post')\n",
        "\n",
        "val_sequences = encode(data_val)\n",
        "val_padded = pad_sequences(val_sequences, maxlen=max_length, padding='post')"
      ]
    },
    {
      "cell_type": "code",
      "execution_count": null,
      "metadata": {
        "id": "tgMDPreQFmgM"
      },
      "outputs": [],
      "source": [
        "word_index = tokenizer.word_index\n",
        "num_words = vocab_size+1\n",
        "embedding_matrix = np.zeros((num_words, 400))\n",
        "for word, i in tokenizer.word_index.items():\n",
        "    if i >= num_words:\n",
        "        continue\n",
        "    embedding_vector = embeddings_index.get(word)\n",
        "    if embedding_vector is not None:\n",
        "        embedding_matrix[i] = embedding_vector"
      ]
    },
    {
      "cell_type": "code",
      "execution_count": null,
      "metadata": {
        "id": "sC6B0derFpeN"
      },
      "outputs": [],
      "source": [
        "x_train = train_padded\n",
        "x_val = val_padded\n",
        "x_test = test_padded"
      ]
    },
    {
      "cell_type": "code",
      "execution_count": null,
      "metadata": {
        "colab": {
          "base_uri": "https://localhost:8080/"
        },
        "id": "gTcq0sx5FswY",
        "outputId": "f597b153-d8c6-4990-e3ba-636b978178f1"
      },
      "outputs": [
        {
          "output_type": "stream",
          "name": "stdout",
          "text": [
            "[[166 558 623 ...   0   0   0]\n",
            " [ 13 142   8 ...   0   0   0]\n",
            " [258 143  99 ...   0   0   0]\n",
            " ...\n",
            " [  1  17   8 ...   0   0   0]\n",
            " [780 780  27 ...   0   0   0]\n",
            " [  2 743   8 ...   0   0   0]]\n"
          ]
        }
      ],
      "source": [
        "x_train1 = np.concatenate((x_train,x_val))\n",
        "print(x_train1)"
      ]
    },
    {
      "cell_type": "code",
      "execution_count": null,
      "metadata": {
        "colab": {
          "base_uri": "https://localhost:8080/"
        },
        "id": "ftOdPUTJFwTX",
        "outputId": "69103044-7bed-44bc-8dd6-66b15154ab3d"
      },
      "outputs": [
        {
          "output_type": "execute_result",
          "data": {
            "text/plain": [
              "(2581, 48)"
            ]
          },
          "metadata": {},
          "execution_count": 211
        }
      ],
      "source": [
        "x_train1.shape"
      ]
    },
    {
      "cell_type": "markdown",
      "metadata": {
        "id": "cXpMI5X2GDbU"
      },
      "source": [
        "# Labels to Categorical"
      ]
    },
    {
      "cell_type": "code",
      "execution_count": null,
      "metadata": {
        "colab": {
          "base_uri": "https://localhost:8080/"
        },
        "id": "VrPirc7lGGP1",
        "outputId": "cd06b667-a62b-4ed0-f657-4713786aee5f"
      },
      "outputs": [
        {
          "output_type": "stream",
          "name": "stdout",
          "text": [
            "[[0. 0. 0. 1. 0.]\n",
            " [0. 0. 1. 0. 0.]\n",
            " [0. 0. 0. 1. 0.]\n",
            " ...\n",
            " [0. 0. 0. 1. 0.]\n",
            " [1. 0. 0. 0. 0.]\n",
            " [0. 0. 0. 0. 1.]]\n"
          ]
        }
      ],
      "source": [
        "y_train = to_categorical(datatrain['label'])\n",
        "y_val = to_categorical(dataval['label'])\n",
        "y_test = to_categorical(datatest['label'])\n",
        "print(y_train)"
      ]
    },
    {
      "cell_type": "code",
      "execution_count": null,
      "metadata": {
        "colab": {
          "base_uri": "https://localhost:8080/"
        },
        "id": "gpgISWE8HBwX",
        "outputId": "fb90d234-22d6-4336-9656-b7b24e6fe9cb"
      },
      "outputs": [
        {
          "output_type": "stream",
          "name": "stdout",
          "text": [
            "[[0. 0. 0. 1. 0.]\n",
            " [0. 0. 1. 0. 0.]\n",
            " [0. 0. 0. 1. 0.]\n",
            " ...\n",
            " [0. 0. 0. 0. 1.]\n",
            " [1. 0. 0. 0. 0.]\n",
            " [0. 0. 0. 0. 1.]]\n"
          ]
        }
      ],
      "source": [
        "y_train1 = np.concatenate((y_train,y_val))\n",
        "print(y_train1)"
      ]
    },
    {
      "cell_type": "code",
      "execution_count": null,
      "metadata": {
        "colab": {
          "base_uri": "https://localhost:8080/"
        },
        "id": "ZGBX8p7dHDZB",
        "outputId": "4de3464b-0ee9-496c-9e40-8c191f2c44cf"
      },
      "outputs": [
        {
          "output_type": "execute_result",
          "data": {
            "text/plain": [
              "(2581, 5)"
            ]
          },
          "metadata": {},
          "execution_count": 214
        }
      ],
      "source": [
        "y_train1.shape"
      ]
    },
    {
      "cell_type": "code",
      "execution_count": null,
      "metadata": {
        "colab": {
          "base_uri": "https://localhost:8080/"
        },
        "id": "kpGmzuX1HIGN",
        "outputId": "5c26c32b-f351-4fd3-d03d-1536ddf6c5ef"
      },
      "outputs": [
        {
          "output_type": "execute_result",
          "data": {
            "text/plain": [
              "((2151, 48), (430, 48), (287, 48), (2151, 5), (430, 5), (287, 5))"
            ]
          },
          "metadata": {},
          "execution_count": 215
        }
      ],
      "source": [
        "x_train.shape, x_val.shape, x_test.shape, y_train.shape, y_val.shape, y_test.shape"
      ]
    },
    {
      "cell_type": "markdown",
      "metadata": {
        "id": "farlxAK2HPIZ"
      },
      "source": [
        "# CNN"
      ]
    },
    {
      "cell_type": "code",
      "execution_count": null,
      "metadata": {
        "id": "djMmhgAMHRlU"
      },
      "outputs": [],
      "source": [
        "def model_evaluation(x, y, model):\n",
        "    loss, accuracy = model.evaluate(x, y, verbose=False)\n",
        "    return loss, accuracy"
      ]
    },
    {
      "cell_type": "code",
      "execution_count": null,
      "metadata": {
        "colab": {
          "base_uri": "https://localhost:8080/"
        },
        "id": "gqmCITu5HYNl",
        "outputId": "a4ff9367-8694-49f9-de04-32855938857b"
      },
      "outputs": [
        {
          "output_type": "stream",
          "name": "stdout",
          "text": [
            "Looking in indexes: https://pypi.org/simple, https://us-python.pkg.dev/colab-wheels/public/simple/\n",
            "Requirement already satisfied: keras-tuner in /usr/local/lib/python3.7/dist-packages (1.1.2)\n",
            "Requirement already satisfied: packaging in /usr/local/lib/python3.7/dist-packages (from keras-tuner) (21.3)\n",
            "Requirement already satisfied: kt-legacy in /usr/local/lib/python3.7/dist-packages (from keras-tuner) (1.0.4)\n",
            "Requirement already satisfied: tensorboard in /usr/local/lib/python3.7/dist-packages (from keras-tuner) (2.8.0)\n",
            "Requirement already satisfied: numpy in /usr/local/lib/python3.7/dist-packages (from keras-tuner) (1.21.6)\n",
            "Requirement already satisfied: ipython in /usr/local/lib/python3.7/dist-packages (from keras-tuner) (5.5.0)\n",
            "Requirement already satisfied: requests in /usr/local/lib/python3.7/dist-packages (from keras-tuner) (2.23.0)\n",
            "Requirement already satisfied: setuptools>=18.5 in /usr/local/lib/python3.7/dist-packages (from ipython->keras-tuner) (57.4.0)\n",
            "Requirement already satisfied: pickleshare in /usr/local/lib/python3.7/dist-packages (from ipython->keras-tuner) (0.7.5)\n",
            "Requirement already satisfied: simplegeneric>0.8 in /usr/local/lib/python3.7/dist-packages (from ipython->keras-tuner) (0.8.1)\n",
            "Requirement already satisfied: traitlets>=4.2 in /usr/local/lib/python3.7/dist-packages (from ipython->keras-tuner) (5.1.1)\n",
            "Requirement already satisfied: pexpect in /usr/local/lib/python3.7/dist-packages (from ipython->keras-tuner) (4.8.0)\n",
            "Requirement already satisfied: prompt-toolkit<2.0.0,>=1.0.4 in /usr/local/lib/python3.7/dist-packages (from ipython->keras-tuner) (1.0.18)\n",
            "Requirement already satisfied: pygments in /usr/local/lib/python3.7/dist-packages (from ipython->keras-tuner) (2.6.1)\n",
            "Requirement already satisfied: decorator in /usr/local/lib/python3.7/dist-packages (from ipython->keras-tuner) (4.4.2)\n",
            "Requirement already satisfied: wcwidth in /usr/local/lib/python3.7/dist-packages (from prompt-toolkit<2.0.0,>=1.0.4->ipython->keras-tuner) (0.2.5)\n",
            "Requirement already satisfied: six>=1.9.0 in /usr/local/lib/python3.7/dist-packages (from prompt-toolkit<2.0.0,>=1.0.4->ipython->keras-tuner) (1.15.0)\n",
            "Requirement already satisfied: pyparsing!=3.0.5,>=2.0.2 in /usr/local/lib/python3.7/dist-packages (from packaging->keras-tuner) (3.0.9)\n",
            "Requirement already satisfied: ptyprocess>=0.5 in /usr/local/lib/python3.7/dist-packages (from pexpect->ipython->keras-tuner) (0.7.0)\n",
            "Requirement already satisfied: idna<3,>=2.5 in /usr/local/lib/python3.7/dist-packages (from requests->keras-tuner) (2.10)\n",
            "Requirement already satisfied: certifi>=2017.4.17 in /usr/local/lib/python3.7/dist-packages (from requests->keras-tuner) (2022.5.18.1)\n",
            "Requirement already satisfied: chardet<4,>=3.0.2 in /usr/local/lib/python3.7/dist-packages (from requests->keras-tuner) (3.0.4)\n",
            "Requirement already satisfied: urllib3!=1.25.0,!=1.25.1,<1.26,>=1.21.1 in /usr/local/lib/python3.7/dist-packages (from requests->keras-tuner) (1.24.3)\n",
            "Requirement already satisfied: tensorboard-data-server<0.7.0,>=0.6.0 in /usr/local/lib/python3.7/dist-packages (from tensorboard->keras-tuner) (0.6.1)\n",
            "Requirement already satisfied: absl-py>=0.4 in /usr/local/lib/python3.7/dist-packages (from tensorboard->keras-tuner) (1.0.0)\n",
            "Requirement already satisfied: google-auth-oauthlib<0.5,>=0.4.1 in /usr/local/lib/python3.7/dist-packages (from tensorboard->keras-tuner) (0.4.6)\n",
            "Requirement already satisfied: werkzeug>=0.11.15 in /usr/local/lib/python3.7/dist-packages (from tensorboard->keras-tuner) (1.0.1)\n",
            "Requirement already satisfied: wheel>=0.26 in /usr/local/lib/python3.7/dist-packages (from tensorboard->keras-tuner) (0.37.1)\n",
            "Requirement already satisfied: protobuf>=3.6.0 in /usr/local/lib/python3.7/dist-packages (from tensorboard->keras-tuner) (3.17.3)\n",
            "Requirement already satisfied: markdown>=2.6.8 in /usr/local/lib/python3.7/dist-packages (from tensorboard->keras-tuner) (3.3.7)\n",
            "Requirement already satisfied: tensorboard-plugin-wit>=1.6.0 in /usr/local/lib/python3.7/dist-packages (from tensorboard->keras-tuner) (1.8.1)\n",
            "Requirement already satisfied: grpcio>=1.24.3 in /usr/local/lib/python3.7/dist-packages (from tensorboard->keras-tuner) (1.46.3)\n",
            "Requirement already satisfied: google-auth<3,>=1.6.3 in /usr/local/lib/python3.7/dist-packages (from tensorboard->keras-tuner) (1.35.0)\n",
            "Requirement already satisfied: pyasn1-modules>=0.2.1 in /usr/local/lib/python3.7/dist-packages (from google-auth<3,>=1.6.3->tensorboard->keras-tuner) (0.2.8)\n",
            "Requirement already satisfied: cachetools<5.0,>=2.0.0 in /usr/local/lib/python3.7/dist-packages (from google-auth<3,>=1.6.3->tensorboard->keras-tuner) (4.2.4)\n",
            "Requirement already satisfied: rsa<5,>=3.1.4 in /usr/local/lib/python3.7/dist-packages (from google-auth<3,>=1.6.3->tensorboard->keras-tuner) (4.8)\n",
            "Requirement already satisfied: requests-oauthlib>=0.7.0 in /usr/local/lib/python3.7/dist-packages (from google-auth-oauthlib<0.5,>=0.4.1->tensorboard->keras-tuner) (1.3.1)\n",
            "Requirement already satisfied: importlib-metadata>=4.4 in /usr/local/lib/python3.7/dist-packages (from markdown>=2.6.8->tensorboard->keras-tuner) (4.11.4)\n",
            "Requirement already satisfied: typing-extensions>=3.6.4 in /usr/local/lib/python3.7/dist-packages (from importlib-metadata>=4.4->markdown>=2.6.8->tensorboard->keras-tuner) (4.2.0)\n",
            "Requirement already satisfied: zipp>=0.5 in /usr/local/lib/python3.7/dist-packages (from importlib-metadata>=4.4->markdown>=2.6.8->tensorboard->keras-tuner) (3.8.0)\n",
            "Requirement already satisfied: pyasn1<0.5.0,>=0.4.6 in /usr/local/lib/python3.7/dist-packages (from pyasn1-modules>=0.2.1->google-auth<3,>=1.6.3->tensorboard->keras-tuner) (0.4.8)\n",
            "Requirement already satisfied: oauthlib>=3.0.0 in /usr/local/lib/python3.7/dist-packages (from requests-oauthlib>=0.7.0->google-auth-oauthlib<0.5,>=0.4.1->tensorboard->keras-tuner) (3.2.0)\n"
          ]
        }
      ],
      "source": [
        "pip install keras-tuner"
      ]
    },
    {
      "cell_type": "code",
      "execution_count": null,
      "metadata": {
        "id": "n3O0aiJvHb5k"
      },
      "outputs": [],
      "source": [
        "def W2V_CNN(hp):\n",
        "    model = Sequential()\n",
        "    model.add(Embedding(num_words, embedding_dim, weights = [embedding_matrix], input_length = max_length, trainable = False) )\n",
        "    \n",
        "    model.add(Conv1D(filters=hp.Choice('conv_filters', values=[32, 64, 128,256]), \n",
        "                   kernel_size=hp.Choice('kernel_size', values=[2,3,4]), \n",
        "                   activation='relu'))\n",
        "    model.add(MaxPooling1D(pool_size=hp.Choice('pool_size', values=[2,3,4])))\n",
        "    model.add(Flatten())\n",
        "    model.add(Dropout(0.5))\n",
        "    model.add(Dense(units=hp.Choice('dense_units', values = [32, 64, 128,256]), \n",
        "                  activation='relu'))\n",
        "    model.add(Dense(5, activation='softmax')) \n",
        "\n",
        "    adam = tf.optimizers.Adam(hp.Choice('learning_rate',\n",
        "                                        values=[1e-3, 1e-4, 5e-5, 1e-5]))\n",
        "    model.compile(optimizer = adam, loss = 'categorical_crossentropy', \n",
        "                  metrics=['accuracy'])          \n",
        "    \n",
        "    return model"
      ]
    },
    {
      "cell_type": "code",
      "execution_count": null,
      "metadata": {
        "id": "IXzFYR5BHtc-"
      },
      "outputs": [],
      "source": [
        "from kerastuner.tuners import Hyperband\n",
        "from kerastuner.engine.hyperparameters import HyperParameters\n",
        "from tensorflow.keras import regularizers"
      ]
    },
    {
      "cell_type": "code",
      "execution_count": null,
      "metadata": {
        "id": "B9oFvnoaHhed"
      },
      "outputs": [],
      "source": [
        "tuner = Hyperband(\n",
        "    W2V_CNN,\n",
        "    max_epochs=100,\n",
        "    objective='val_accuracy',\n",
        "    directory=DATA_TUNER,\n",
        "    project_name='newerer9010_cnn_w2v_001'\n",
        ")"
      ]
    },
    {
      "cell_type": "code",
      "execution_count": null,
      "metadata": {
        "colab": {
          "base_uri": "https://localhost:8080/"
        },
        "id": "5_OngDqpH2JY",
        "outputId": "e2ef856c-4913-497f-a743-eac3c86a4011"
      },
      "outputs": [
        {
          "output_type": "stream",
          "name": "stdout",
          "text": [
            "Trial 254 Complete [00h 00m 32s]\n",
            "val_accuracy: 0.5976744294166565\n",
            "\n",
            "Best val_accuracy So Far: 0.6232557892799377\n",
            "Total elapsed time: 00h 25m 02s\n",
            "INFO:tensorflow:Oracle triggered exit\n"
          ]
        }
      ],
      "source": [
        "tuner.search(x_train, y_train, epochs=100, validation_data=(x_val, y_val))"
      ]
    },
    {
      "cell_type": "code",
      "execution_count": null,
      "metadata": {
        "colab": {
          "base_uri": "https://localhost:8080/"
        },
        "id": "K0yQN4eGKMD-",
        "outputId": "dfbb906f-24d8-4556-f4b4-b77e2cdc0132"
      },
      "outputs": [
        {
          "output_type": "execute_result",
          "data": {
            "text/plain": [
              "{'conv_filters': 128,\n",
              " 'dense_units': 256,\n",
              " 'kernel_size': 3,\n",
              " 'learning_rate': 0.001,\n",
              " 'pool_size': 4,\n",
              " 'tuner/bracket': 4,\n",
              " 'tuner/epochs': 100,\n",
              " 'tuner/initial_epoch': 34,\n",
              " 'tuner/round': 4,\n",
              " 'tuner/trial_id': '0142'}"
            ]
          },
          "metadata": {},
          "execution_count": 222
        }
      ],
      "source": [
        "tuner.get_best_hyperparameters()[0].values"
      ]
    },
    {
      "cell_type": "code",
      "execution_count": null,
      "metadata": {
        "colab": {
          "base_uri": "https://localhost:8080/"
        },
        "id": "jTtIgH8UKSsY",
        "outputId": "29b2f0fd-e2e6-417d-a77a-aa64f64d6fc3"
      },
      "outputs": [
        {
          "output_type": "stream",
          "name": "stdout",
          "text": [
            "Results summary\n",
            "Results in /content/gdrive/My Drive/skripsi/tuner/newerer9010_cnn_w2v_001\n",
            "Showing 10 best trials\n",
            "<keras_tuner.engine.objective.Objective object at 0x7f0c8f60e350>\n",
            "Trial summary\n",
            "Hyperparameters:\n",
            "conv_filters: 128\n",
            "kernel_size: 3\n",
            "pool_size: 4\n",
            "dense_units: 256\n",
            "learning_rate: 0.001\n",
            "tuner/epochs: 100\n",
            "tuner/initial_epoch: 34\n",
            "tuner/bracket: 4\n",
            "tuner/round: 4\n",
            "tuner/trial_id: 0142\n",
            "Score: 0.6232557892799377\n",
            "Trial summary\n",
            "Hyperparameters:\n",
            "conv_filters: 128\n",
            "kernel_size: 4\n",
            "pool_size: 4\n",
            "dense_units: 256\n",
            "learning_rate: 0.001\n",
            "tuner/epochs: 100\n",
            "tuner/initial_epoch: 34\n",
            "tuner/bracket: 4\n",
            "tuner/round: 4\n",
            "tuner/trial_id: 0143\n",
            "Score: 0.6162790656089783\n",
            "Trial summary\n",
            "Hyperparameters:\n",
            "conv_filters: 256\n",
            "kernel_size: 4\n",
            "pool_size: 4\n",
            "dense_units: 64\n",
            "learning_rate: 0.001\n",
            "tuner/epochs: 100\n",
            "tuner/initial_epoch: 34\n",
            "tuner/bracket: 3\n",
            "tuner/round: 3\n",
            "tuner/trial_id: 0206\n",
            "Score: 0.6162790656089783\n",
            "Trial summary\n",
            "Hyperparameters:\n",
            "conv_filters: 128\n",
            "kernel_size: 4\n",
            "pool_size: 4\n",
            "dense_units: 256\n",
            "learning_rate: 0.001\n",
            "tuner/epochs: 34\n",
            "tuner/initial_epoch: 12\n",
            "tuner/bracket: 4\n",
            "tuner/round: 3\n",
            "tuner/trial_id: 0140\n",
            "Score: 0.6116279363632202\n",
            "Trial summary\n",
            "Hyperparameters:\n",
            "conv_filters: 64\n",
            "kernel_size: 3\n",
            "pool_size: 4\n",
            "dense_units: 64\n",
            "learning_rate: 0.001\n",
            "tuner/epochs: 34\n",
            "tuner/initial_epoch: 12\n",
            "tuner/bracket: 2\n",
            "tuner/round: 1\n",
            "tuner/trial_id: 0215\n",
            "Score: 0.6116279363632202\n",
            "Trial summary\n",
            "Hyperparameters:\n",
            "conv_filters: 128\n",
            "kernel_size: 3\n",
            "pool_size: 4\n",
            "dense_units: 32\n",
            "learning_rate: 0.0001\n",
            "tuner/epochs: 100\n",
            "tuner/initial_epoch: 34\n",
            "tuner/bracket: 1\n",
            "tuner/round: 1\n",
            "tuner/trial_id: 0241\n",
            "Score: 0.6116279363632202\n",
            "Trial summary\n",
            "Hyperparameters:\n",
            "conv_filters: 128\n",
            "kernel_size: 2\n",
            "pool_size: 4\n",
            "dense_units: 256\n",
            "learning_rate: 5e-05\n",
            "tuner/epochs: 100\n",
            "tuner/initial_epoch: 0\n",
            "tuner/bracket: 0\n",
            "tuner/round: 0\n",
            "Score: 0.6116279363632202\n",
            "Trial summary\n",
            "Hyperparameters:\n",
            "conv_filters: 256\n",
            "kernel_size: 3\n",
            "pool_size: 4\n",
            "dense_units: 128\n",
            "learning_rate: 0.001\n",
            "tuner/epochs: 34\n",
            "tuner/initial_epoch: 12\n",
            "tuner/bracket: 3\n",
            "tuner/round: 2\n",
            "tuner/trial_id: 0191\n",
            "Score: 0.6093023419380188\n",
            "Trial summary\n",
            "Hyperparameters:\n",
            "conv_filters: 64\n",
            "kernel_size: 3\n",
            "pool_size: 4\n",
            "dense_units: 64\n",
            "learning_rate: 0.001\n",
            "tuner/epochs: 100\n",
            "tuner/initial_epoch: 34\n",
            "tuner/bracket: 2\n",
            "tuner/round: 2\n",
            "tuner/trial_id: 0228\n",
            "Score: 0.6093023419380188\n",
            "Trial summary\n",
            "Hyperparameters:\n",
            "conv_filters: 256\n",
            "kernel_size: 4\n",
            "pool_size: 4\n",
            "dense_units: 128\n",
            "learning_rate: 0.0001\n",
            "tuner/epochs: 100\n",
            "tuner/initial_epoch: 34\n",
            "tuner/bracket: 1\n",
            "tuner/round: 1\n",
            "tuner/trial_id: 0238\n",
            "Score: 0.6093023419380188\n"
          ]
        }
      ],
      "source": [
        "tuner.results_summary()"
      ]
    },
    {
      "cell_type": "code",
      "execution_count": null,
      "metadata": {
        "id": "4vi4Xn2jKV2V"
      },
      "outputs": [],
      "source": [
        "best_hps = tuner.get_best_hyperparameters(num_trials=1)[0]"
      ]
    },
    {
      "cell_type": "code",
      "execution_count": null,
      "metadata": {
        "colab": {
          "base_uri": "https://localhost:8080/"
        },
        "id": "fALU1tyJKaOH",
        "outputId": "521b891e-2597-492e-b1d0-8ac4f7a203a0"
      },
      "outputs": [
        {
          "output_type": "stream",
          "name": "stdout",
          "text": [
            "Model: \"sequential_1\"\n",
            "_________________________________________________________________\n",
            " Layer (type)                Output Shape              Param #   \n",
            "=================================================================\n",
            " embedding_1 (Embedding)     (None, 48, 400)           1223200   \n",
            "                                                                 \n",
            " conv1d_1 (Conv1D)           (None, 46, 128)           153728    \n",
            "                                                                 \n",
            " max_pooling1d_1 (MaxPooling  (None, 11, 128)          0         \n",
            " 1D)                                                             \n",
            "                                                                 \n",
            " flatten_1 (Flatten)         (None, 1408)              0         \n",
            "                                                                 \n",
            " dropout_1 (Dropout)         (None, 1408)              0         \n",
            "                                                                 \n",
            " dense_2 (Dense)             (None, 256)               360704    \n",
            "                                                                 \n",
            " dense_3 (Dense)             (None, 5)                 1285      \n",
            "                                                                 \n",
            "=================================================================\n",
            "Total params: 1,738,917\n",
            "Trainable params: 515,717\n",
            "Non-trainable params: 1,223,200\n",
            "_________________________________________________________________\n"
          ]
        }
      ],
      "source": [
        "model_cnn = W2V_CNN(best_hps)\n",
        "model_cnn.summary()"
      ]
    },
    {
      "cell_type": "markdown",
      "metadata": {
        "id": "A6djqogNKjDb"
      },
      "source": [
        "Visualization"
      ]
    },
    {
      "cell_type": "code",
      "execution_count": null,
      "metadata": {
        "colab": {
          "base_uri": "https://localhost:8080/",
          "height": 865
        },
        "id": "nSgmgTiBKdpA",
        "outputId": "15d6df91-4821-477d-f88c-fa14dfb3f910"
      },
      "outputs": [
        {
          "output_type": "execute_result",
          "data": {
            "text/plain": [
              "<IPython.core.display.Image object>"
            ],
            "image/png": "[encoded data removed]"
          },
          "metadata": {},
          "execution_count": 226
        }
      ],
      "source": [
        "plot_model(model_cnn, to_file='visualize_model.png', show_shapes=True, show_layer_names=True)"
      ]
    },
    {
      "cell_type": "markdown",
      "metadata": {
        "id": "zT20VQNpK5_7"
      },
      "source": [
        "Model Training"
      ]
    },
    {
      "cell_type": "code",
      "execution_count": null,
      "metadata": {
        "colab": {
          "base_uri": "https://localhost:8080/"
        },
        "id": "rd7XHEgTKzC3",
        "outputId": "42ccf06f-c0e0-4b56-bc6d-368ce8232518"
      },
      "outputs": [
        {
          "output_type": "stream",
          "name": "stdout",
          "text": [
            "Epoch 1/100\n",
            "68/68 [==============================] - 1s 8ms/step - loss: 1.4665 - accuracy: 0.3938 - val_loss: 1.2227 - val_accuracy: 0.4721\n",
            "Epoch 2/100\n",
            "68/68 [==============================] - 0s 5ms/step - loss: 1.0820 - accuracy: 0.5500 - val_loss: 1.1471 - val_accuracy: 0.5349\n",
            "Epoch 3/100\n",
            "68/68 [==============================] - 0s 5ms/step - loss: 0.9178 - accuracy: 0.6420 - val_loss: 1.1858 - val_accuracy: 0.5628\n",
            "Epoch 4/100\n",
            "68/68 [==============================] - 0s 5ms/step - loss: 0.7564 - accuracy: 0.6974 - val_loss: 1.1453 - val_accuracy: 0.5535\n",
            "Epoch 5/100\n",
            "68/68 [==============================] - 0s 6ms/step - loss: 0.6735 - accuracy: 0.7536 - val_loss: 1.1715 - val_accuracy: 0.5814\n",
            "Epoch 6/100\n",
            "68/68 [==============================] - 0s 5ms/step - loss: 0.5623 - accuracy: 0.7885 - val_loss: 1.2039 - val_accuracy: 0.5674\n",
            "Epoch 7/100\n",
            "68/68 [==============================] - 0s 5ms/step - loss: 0.4689 - accuracy: 0.8224 - val_loss: 1.2978 - val_accuracy: 0.5512\n",
            "Epoch 8/100\n",
            "68/68 [==============================] - 0s 4ms/step - loss: 0.4530 - accuracy: 0.8219 - val_loss: 1.2960 - val_accuracy: 0.5791\n",
            "Epoch 9/100\n",
            "68/68 [==============================] - 0s 5ms/step - loss: 0.4012 - accuracy: 0.8517 - val_loss: 1.3722 - val_accuracy: 0.5791\n"
          ]
        }
      ],
      "source": [
        "es_callbacks = [EarlyStopping(monitor=\"val_loss\", min_delta=0.001, patience=5)]\n",
        "\n",
        "history = model_cnn.fit(x_train,\n",
        "          y_train,\n",
        "          epochs=100,\n",
        "          validation_data=(x_val, y_val),\n",
        "          callbacks=[es_callbacks])"
      ]
    },
    {
      "cell_type": "code",
      "execution_count": null,
      "metadata": {
        "colab": {
          "base_uri": "https://localhost:8080/",
          "height": 370
        },
        "id": "Nz4AGTANLZrp",
        "outputId": "9f3b64a7-a40f-4f59-9a8d-f7b159295876"
      },
      "outputs": [
        {
          "output_type": "display_data",
          "data": {
            "text/plain": [
              "<Figure size 864x360 with 2 Axes>"
            ],
            "image/png": "[encoded data removed]"
          },
          "metadata": {
            "needs_background": "light"
          }
        }
      ],
      "source": [
        "accuracy = history.history['accuracy']\n",
        "val_accuracy = history.history['val_accuracy']\n",
        "loss = history.history['loss']\n",
        "val_loss = history.history['val_loss']\n",
        "x = range(1, len(accuracy) + 1)\n",
        "\n",
        "plt.figure(figsize=(12, 5))\n",
        "plt.subplot(1, 2, 1)\n",
        "plt.plot(x, accuracy, 'b', label='Train accuracy')\n",
        "plt.plot(x, val_accuracy, 'r', label='Validation accuracy')\n",
        "plt.title('Training and validation accuracy')\n",
        "plt.xlabel('epochs')\n",
        "plt.ylabel('accuracy')\n",
        "plt.legend()\n",
        "plt.subplot(1, 2, 2)\n",
        "plt.plot(x, loss, 'b', label='Training loss')\n",
        "plt.plot(x, val_loss, 'r', label='Validation loss')\n",
        "plt.title('Training and validation loss')\n",
        "plt.xlabel('epochs')\n",
        "plt.ylabel('loss')\n",
        "plt.legend()\n",
        "plt.suptitle('Model Evaluation', fontsize=14)\n",
        "plt.savefig('cnn_graph_val.png')"
      ]
    },
    {
      "cell_type": "code",
      "execution_count": null,
      "metadata": {
        "colab": {
          "base_uri": "https://localhost:8080/"
        },
        "id": "tVCz__VTLs1Z",
        "outputId": "e4293665-7c22-45e2-fda0-eb2c5ec8cb41"
      },
      "outputs": [
        {
          "output_type": "stream",
          "name": "stdout",
          "text": [
            "Epoch 1/100\n",
            "81/81 [==============================] - 1s 11ms/step - loss: 0.5890 - accuracy: 0.7908 - val_loss: 1.1459 - val_accuracy: 0.6063\n",
            "Epoch 2/100\n",
            "81/81 [==============================] - 1s 7ms/step - loss: 0.4618 - accuracy: 0.8338 - val_loss: 1.1758 - val_accuracy: 0.5923\n",
            "Epoch 3/100\n",
            "81/81 [==============================] - 1s 7ms/step - loss: 0.3924 - accuracy: 0.8559 - val_loss: 1.2166 - val_accuracy: 0.5923\n",
            "Epoch 4/100\n",
            "81/81 [==============================] - 1s 7ms/step - loss: 0.3498 - accuracy: 0.8718 - val_loss: 1.2265 - val_accuracy: 0.6237\n",
            "Epoch 5/100\n",
            "81/81 [==============================] - 1s 6ms/step - loss: 0.3149 - accuracy: 0.8900 - val_loss: 1.2912 - val_accuracy: 0.5714\n",
            "Epoch 6/100\n",
            "81/81 [==============================] - 1s 7ms/step - loss: 0.2960 - accuracy: 0.8904 - val_loss: 1.3684 - val_accuracy: 0.5958\n"
          ]
        }
      ],
      "source": [
        "es_callbacks = [EarlyStopping(monitor=\"val_loss\", min_delta=0.001, patience=5)]\n",
        "\n",
        "history = model_cnn.fit(x_train1,\n",
        "          y_train1,\n",
        "          epochs=100,\n",
        "          validation_data=(x_test, y_test),\n",
        "          callbacks=[es_callbacks])"
      ]
    },
    {
      "cell_type": "code",
      "execution_count": null,
      "metadata": {
        "id": "pprc9Dk5L6PZ"
      },
      "outputs": [],
      "source": [
        "model_cnn.save(f'{DATA_WEIGHT}newerer9010_model_cnn_w2v_001.h5')"
      ]
    },
    {
      "cell_type": "markdown",
      "metadata": {
        "id": "0Tj8OIC2MHpD"
      },
      "source": [
        "Accuracy and Loss Plot"
      ]
    },
    {
      "cell_type": "code",
      "execution_count": null,
      "metadata": {
        "colab": {
          "base_uri": "https://localhost:8080/",
          "height": 370
        },
        "id": "KuXT9S6NMHVy",
        "outputId": "74f95646-c799-4a31-cf01-bf0b1e6f620d"
      },
      "outputs": [
        {
          "output_type": "display_data",
          "data": {
            "text/plain": [
              "<Figure size 864x360 with 2 Axes>"
            ],
            "image/png": "[encoded data removed]"
          },
          "metadata": {
            "needs_background": "light"
          }
        }
      ],
      "source": [
        "accuracy = history.history['accuracy']\n",
        "val_accuracy = history.history['val_accuracy']\n",
        "loss = history.history['loss']\n",
        "val_loss = history.history['val_loss']\n",
        "x = range(1, len(accuracy) + 1)\n",
        "\n",
        "plt.figure(figsize=(12, 5))\n",
        "plt.subplot(1, 2, 1)\n",
        "plt.plot(x, accuracy, 'b', label='Train accuracy')\n",
        "plt.plot(x, val_accuracy, 'r', label='Validation accuracy')\n",
        "plt.title('Training and validation accuracy')\n",
        "plt.xlabel('epochs')\n",
        "plt.ylabel('accuracy')\n",
        "plt.legend()\n",
        "plt.subplot(1, 2, 2)\n",
        "plt.plot(x, loss, 'b', label='Training loss')\n",
        "plt.plot(x, val_loss, 'r', label='Validation loss')\n",
        "plt.title('Training and validation loss')\n",
        "plt.xlabel('epochs')\n",
        "plt.ylabel('loss')\n",
        "plt.legend()\n",
        "plt.suptitle('Model Evaluation', fontsize=14)\n",
        "plt.savefig('cnn_graph.png')"
      ]
    },
    {
      "cell_type": "code",
      "execution_count": null,
      "metadata": {
        "id": "IMqcAMmKMx-n"
      },
      "outputs": [],
      "source": [
        "loss_train_best, accuracy_train_best = model_evaluation(x_train1, y_train1, model_cnn)\n",
        "loss_test_best, accuracy_test_best = model_evaluation(x_test, y_test, model_cnn)"
      ]
    },
    {
      "cell_type": "code",
      "execution_count": null,
      "metadata": {
        "colab": {
          "base_uri": "https://localhost:8080/"
        },
        "id": "o_aNzdFYM7JJ",
        "outputId": "577b3c64-c6fb-4ae7-86e2-5a272279adc6"
      },
      "outputs": [
        {
          "output_type": "stream",
          "name": "stdout",
          "text": [
            "Train [0.9771406650543213][0.09649264812469482]\n",
            "Test [0.595818817615509][1.3683565855026245]\n"
          ]
        }
      ],
      "source": [
        "print('Train [{}][{}]'.format(accuracy_train_best, loss_train_best))\n",
        "print('Test [{}][{}]'.format(accuracy_test_best, loss_test_best))"
      ]
    },
    {
      "cell_type": "code",
      "execution_count": null,
      "metadata": {
        "id": "4_5ZMWO_NPN6"
      },
      "outputs": [],
      "source": [
        "result_classes = np.argmax(model_cnn.predict(x_test), axis=-1)"
      ]
    },
    {
      "cell_type": "markdown",
      "metadata": {
        "id": "ZGDesaxrNDlb"
      },
      "source": [
        "# Model Evaluation"
      ]
    },
    {
      "cell_type": "code",
      "execution_count": null,
      "metadata": {
        "id": "fLWxwWsnNAjs"
      },
      "outputs": [],
      "source": [
        "from sklearn.metrics import accuracy_score, precision_score, recall_score, f1_score, classification_report, confusion_matrix"
      ]
    },
    {
      "cell_type": "code",
      "execution_count": null,
      "metadata": {
        "colab": {
          "base_uri": "https://localhost:8080/"
        },
        "id": "9a9MDXUCNHft",
        "outputId": "b2f6723c-6197-44f0-e883-6d532d07a2cd"
      },
      "outputs": [
        {
          "output_type": "execute_result",
          "data": {
            "text/plain": [
              "array([[ 0, 31],\n",
              "       [ 1, 42],\n",
              "       [ 2, 43],\n",
              "       [ 3, 95],\n",
              "       [ 4, 76]])"
            ]
          },
          "metadata": {},
          "execution_count": 236
        }
      ],
      "source": [
        "(unique, counts) = np.unique(result_classes, return_counts=True)\n",
        " \n",
        "frequencies = np.asarray((unique, counts)).T\n",
        "frequencies"
      ]
    },
    {
      "cell_type": "code",
      "execution_count": null,
      "metadata": {
        "id": "q9gbahxKNV60"
      },
      "outputs": [],
      "source": [
        "ground_truth = np.asarray(datatest['label'])"
      ]
    },
    {
      "cell_type": "code",
      "execution_count": null,
      "metadata": {
        "colab": {
          "base_uri": "https://localhost:8080/"
        },
        "id": "qj4pGlViNZhZ",
        "outputId": "32555620-c447-4847-d9a6-4d9d152325b5"
      },
      "outputs": [
        {
          "output_type": "stream",
          "name": "stdout",
          "text": [
            "              precision    recall  f1-score   support\n",
            "\n",
            "           0     0.6774    0.5833    0.6269        36\n",
            "           1     0.5952    0.5102    0.5495        49\n",
            "           2     0.4419    0.5588    0.4935        34\n",
            "           3     0.5474    0.6753    0.6047        77\n",
            "           4     0.7105    0.5934    0.6467        91\n",
            "\n",
            "    accuracy                         0.5958       287\n",
            "   macro avg     0.5945    0.5842    0.5842       287\n",
            "weighted avg     0.6111    0.5958    0.5982       287\n",
            "\n"
          ]
        }
      ],
      "source": [
        "print(classification_report(ground_truth, result_classes, digits = 4))"
      ]
    },
    {
      "cell_type": "markdown",
      "metadata": {
        "id": "tdxTnXQ2NnIS"
      },
      "source": [
        "Confusion Matrix"
      ]
    },
    {
      "cell_type": "code",
      "execution_count": null,
      "metadata": {
        "id": "3vg5zMutNejM"
      },
      "outputs": [],
      "source": [
        "import seaborn as sns\n",
        " \n",
        "colormap = sns.color_palette('Blues')"
      ]
    },
    {
      "cell_type": "code",
      "execution_count": null,
      "metadata": {
        "id": "bkJfViNGNp-s"
      },
      "outputs": [],
      "source": [
        "xtick = []\n",
        "for i in range(len(result_classes)):\n",
        "  if result_classes[i] == 0:\n",
        "    xtick.append('negative')\n",
        "  elif result_classes[i] == 1:\n",
        "    xtick.append('weakly negative')\n",
        "  elif result_classes[i] == 2:\n",
        "    xtick.append('neutral')\n",
        "  elif result_classes[i] == 3:\n",
        "    xtick.append('weakly positive')\n",
        "  else:\n",
        "    xtick.append('positive')"
      ]
    },
    {
      "cell_type": "code",
      "execution_count": null,
      "metadata": {
        "colab": {
          "base_uri": "https://localhost:8080/"
        },
        "id": "4BQJZPP-OqHd",
        "outputId": "4df28948-0d04-4fb2-8f13-51bac6615bd3"
      },
      "outputs": [
        {
          "output_type": "execute_result",
          "data": {
            "text/plain": [
              "{0: 0, 1: 1, 2: 2, 3: 3, 4: 4}"
            ]
          },
          "metadata": {},
          "execution_count": 241
        }
      ],
      "source": [
        "code = dict(zip(datatrain['label'].unique(), datatrain['label'].unique()))\n",
        "code"
      ]
    },
    {
      "cell_type": "code",
      "execution_count": null,
      "metadata": {
        "colab": {
          "base_uri": "https://localhost:8080/"
        },
        "id": "AACJlNjlODHu",
        "outputId": "fb0bd365-b46f-419b-868a-14917ce2e809"
      },
      "outputs": [
        {
          "output_type": "execute_result",
          "data": {
            "text/plain": [
              "[3, 2, 4, 1, 0]"
            ]
          },
          "metadata": {},
          "execution_count": 242
        }
      ],
      "source": [
        "classes = list(code.values())\n",
        "classes"
      ]
    },
    {
      "cell_type": "code",
      "execution_count": null,
      "metadata": {
        "colab": {
          "base_uri": "https://localhost:8080/"
        },
        "id": "As0CTCEuOKXQ",
        "outputId": "7e3075d6-4580-4f48-d026-691c0c3c30bb"
      },
      "outputs": [
        {
          "output_type": "execute_result",
          "data": {
            "text/plain": [
              "array([[21,  4,  6,  2,  3],\n",
              "       [ 5, 25,  6,  9,  4],\n",
              "       [ 1,  2, 19,  9,  3],\n",
              "       [ 2,  6,  5, 52, 12],\n",
              "       [ 2,  5,  7, 23, 54]])"
            ]
          },
          "metadata": {},
          "execution_count": 243
        }
      ],
      "source": [
        "confusion_matrix(ground_truth, result_classes)"
      ]
    },
    {
      "cell_type": "code",
      "execution_count": null,
      "metadata": {
        "colab": {
          "base_uri": "https://localhost:8080/",
          "height": 404
        },
        "id": "gdQwukpPOL_h",
        "outputId": "906d8233-e03b-4d38-ea01-726a446e24d4"
      },
      "outputs": [
        {
          "output_type": "display_data",
          "data": {
            "text/plain": [
              "<Figure size 576x432 with 2 Axes>"
            ],
            "image/png": "[encoded data removed]"
          },
          "metadata": {
            "needs_background": "light"
          }
        }
      ],
      "source": [
        "plt.figure(figsize=(8,6))\n",
        "ax = sns.heatmap(confusion_matrix(ground_truth, result_classes), annot = True, cmap=colormap, fmt='g')\n",
        "ax.set_title('Confusion Matrix')\n",
        "ax.set_xticklabels(classes)\n",
        "ax.set_yticklabels(classes)\n",
        "ax.set(xlabel='Predicted Classes', ylabel='Actual Classes')\n",
        "ax.figure.savefig('confusion_matrix.png')"
      ]
    }
  ],
  "metadata": {
    "colab": {
      "collapsed_sections": [],
      "name": "percobaan fix newerer9010.ipynb",
      "provenance": []
    },
    "kernelspec": {
      "display_name": "Python 3",
      "name": "python3"
    },
    "language_info": {
      "name": "python"
    },
    "accelerator": "GPU"
  },
  "nbformat": 4,
  "nbformat_minor": 0
}