{
  "nbformat": 4,
  "nbformat_minor": 0,
  "metadata": {
    "colab": {
      "name": "Percobaan_fix_newerer_BERT.ipynb",
      "provenance": []
    },
    "kernelspec": {
      "name": "python3",
      "display_name": "Python 3"
    },
    "language_info": {
      "name": "python"
    },
    "accelerator": "TPU"
  },
  "cells": [
    {
      "cell_type": "code",
      "execution_count": null,
      "metadata": {
        "colab": {
          "base_uri": "https://localhost:8080/"
        },
        "id": "wfvcjAOHRWge",
        "outputId": "f0248bf4-61bb-463a-f34c-30bf90e75aa6"
      },
      "outputs": [
        {
          "output_type": "stream",
          "name": "stdout",
          "text": [
            "Tensorflow version 2.8.2\n",
            "Running on TPU  ['10.59.166.122:8470']\n",
            "INFO:tensorflow:Deallocate tpu buffers before initializing tpu system.\n"
          ]
        },
        {
          "output_type": "stream",
          "name": "stderr",
          "text": [
            "INFO:tensorflow:Deallocate tpu buffers before initializing tpu system.\n"
          ]
        },
        {
          "output_type": "stream",
          "name": "stdout",
          "text": [
            "WARNING:tensorflow:TPU system grpc://10.59.166.122:8470 has already been initialized. Reinitializing the TPU can cause previously created variables on TPU to be lost.\n"
          ]
        },
        {
          "output_type": "stream",
          "name": "stderr",
          "text": [
            "WARNING:tensorflow:TPU system grpc://10.59.166.122:8470 has already been initialized. Reinitializing the TPU can cause previously created variables on TPU to be lost.\n"
          ]
        },
        {
          "output_type": "stream",
          "name": "stdout",
          "text": [
            "INFO:tensorflow:Initializing the TPU system: grpc://10.59.166.122:8470\n"
          ]
        },
        {
          "output_type": "stream",
          "name": "stderr",
          "text": [
            "INFO:tensorflow:Initializing the TPU system: grpc://10.59.166.122:8470\n"
          ]
        },
        {
          "output_type": "stream",
          "name": "stdout",
          "text": [
            "INFO:tensorflow:Finished initializing TPU system.\n"
          ]
        },
        {
          "output_type": "stream",
          "name": "stderr",
          "text": [
            "INFO:tensorflow:Finished initializing TPU system.\n",
            "WARNING:absl:`tf.distribute.experimental.TPUStrategy` is deprecated, please use  the non experimental symbol `tf.distribute.TPUStrategy` instead.\n"
          ]
        },
        {
          "output_type": "stream",
          "name": "stdout",
          "text": [
            "INFO:tensorflow:Found TPU system:\n"
          ]
        },
        {
          "output_type": "stream",
          "name": "stderr",
          "text": [
            "INFO:tensorflow:Found TPU system:\n"
          ]
        },
        {
          "output_type": "stream",
          "name": "stdout",
          "text": [
            "INFO:tensorflow:*** Num TPU Cores: 8\n"
          ]
        },
        {
          "output_type": "stream",
          "name": "stderr",
          "text": [
            "INFO:tensorflow:*** Num TPU Cores: 8\n"
          ]
        },
        {
          "output_type": "stream",
          "name": "stdout",
          "text": [
            "INFO:tensorflow:*** Num TPU Workers: 1\n"
          ]
        },
        {
          "output_type": "stream",
          "name": "stderr",
          "text": [
            "INFO:tensorflow:*** Num TPU Workers: 1\n"
          ]
        },
        {
          "output_type": "stream",
          "name": "stdout",
          "text": [
            "INFO:tensorflow:*** Num TPU Cores Per Worker: 8\n"
          ]
        },
        {
          "output_type": "stream",
          "name": "stderr",
          "text": [
            "INFO:tensorflow:*** Num TPU Cores Per Worker: 8\n"
          ]
        },
        {
          "output_type": "stream",
          "name": "stdout",
          "text": [
            "INFO:tensorflow:*** Available Device: _DeviceAttributes(/job:localhost/replica:0/task:0/device:CPU:0, CPU, 0, 0)\n"
          ]
        },
        {
          "output_type": "stream",
          "name": "stderr",
          "text": [
            "INFO:tensorflow:*** Available Device: _DeviceAttributes(/job:localhost/replica:0/task:0/device:CPU:0, CPU, 0, 0)\n"
          ]
        },
        {
          "output_type": "stream",
          "name": "stdout",
          "text": [
            "INFO:tensorflow:*** Available Device: _DeviceAttributes(/job:worker/replica:0/task:0/device:CPU:0, CPU, 0, 0)\n"
          ]
        },
        {
          "output_type": "stream",
          "name": "stderr",
          "text": [
            "INFO:tensorflow:*** Available Device: _DeviceAttributes(/job:worker/replica:0/task:0/device:CPU:0, CPU, 0, 0)\n"
          ]
        },
        {
          "output_type": "stream",
          "name": "stdout",
          "text": [
            "INFO:tensorflow:*** Available Device: _DeviceAttributes(/job:worker/replica:0/task:0/device:TPU:0, TPU, 0, 0)\n"
          ]
        },
        {
          "output_type": "stream",
          "name": "stderr",
          "text": [
            "INFO:tensorflow:*** Available Device: _DeviceAttributes(/job:worker/replica:0/task:0/device:TPU:0, TPU, 0, 0)\n"
          ]
        },
        {
          "output_type": "stream",
          "name": "stdout",
          "text": [
            "INFO:tensorflow:*** Available Device: _DeviceAttributes(/job:worker/replica:0/task:0/device:TPU:1, TPU, 0, 0)\n"
          ]
        },
        {
          "output_type": "stream",
          "name": "stderr",
          "text": [
            "INFO:tensorflow:*** Available Device: _DeviceAttributes(/job:worker/replica:0/task:0/device:TPU:1, TPU, 0, 0)\n"
          ]
        },
        {
          "output_type": "stream",
          "name": "stdout",
          "text": [
            "INFO:tensorflow:*** Available Device: _DeviceAttributes(/job:worker/replica:0/task:0/device:TPU:2, TPU, 0, 0)\n"
          ]
        },
        {
          "output_type": "stream",
          "name": "stderr",
          "text": [
            "INFO:tensorflow:*** Available Device: _DeviceAttributes(/job:worker/replica:0/task:0/device:TPU:2, TPU, 0, 0)\n"
          ]
        },
        {
          "output_type": "stream",
          "name": "stdout",
          "text": [
            "INFO:tensorflow:*** Available Device: _DeviceAttributes(/job:worker/replica:0/task:0/device:TPU:3, TPU, 0, 0)\n"
          ]
        },
        {
          "output_type": "stream",
          "name": "stderr",
          "text": [
            "INFO:tensorflow:*** Available Device: _DeviceAttributes(/job:worker/replica:0/task:0/device:TPU:3, TPU, 0, 0)\n"
          ]
        },
        {
          "output_type": "stream",
          "name": "stdout",
          "text": [
            "INFO:tensorflow:*** Available Device: _DeviceAttributes(/job:worker/replica:0/task:0/device:TPU:4, TPU, 0, 0)\n"
          ]
        },
        {
          "output_type": "stream",
          "name": "stderr",
          "text": [
            "INFO:tensorflow:*** Available Device: _DeviceAttributes(/job:worker/replica:0/task:0/device:TPU:4, TPU, 0, 0)\n"
          ]
        },
        {
          "output_type": "stream",
          "name": "stdout",
          "text": [
            "INFO:tensorflow:*** Available Device: _DeviceAttributes(/job:worker/replica:0/task:0/device:TPU:5, TPU, 0, 0)\n"
          ]
        },
        {
          "output_type": "stream",
          "name": "stderr",
          "text": [
            "INFO:tensorflow:*** Available Device: _DeviceAttributes(/job:worker/replica:0/task:0/device:TPU:5, TPU, 0, 0)\n"
          ]
        },
        {
          "output_type": "stream",
          "name": "stdout",
          "text": [
            "INFO:tensorflow:*** Available Device: _DeviceAttributes(/job:worker/replica:0/task:0/device:TPU:6, TPU, 0, 0)\n"
          ]
        },
        {
          "output_type": "stream",
          "name": "stderr",
          "text": [
            "INFO:tensorflow:*** Available Device: _DeviceAttributes(/job:worker/replica:0/task:0/device:TPU:6, TPU, 0, 0)\n"
          ]
        },
        {
          "output_type": "stream",
          "name": "stdout",
          "text": [
            "INFO:tensorflow:*** Available Device: _DeviceAttributes(/job:worker/replica:0/task:0/device:TPU:7, TPU, 0, 0)\n"
          ]
        },
        {
          "output_type": "stream",
          "name": "stderr",
          "text": [
            "INFO:tensorflow:*** Available Device: _DeviceAttributes(/job:worker/replica:0/task:0/device:TPU:7, TPU, 0, 0)\n"
          ]
        },
        {
          "output_type": "stream",
          "name": "stdout",
          "text": [
            "INFO:tensorflow:*** Available Device: _DeviceAttributes(/job:worker/replica:0/task:0/device:TPU_SYSTEM:0, TPU_SYSTEM, 0, 0)\n"
          ]
        },
        {
          "output_type": "stream",
          "name": "stderr",
          "text": [
            "INFO:tensorflow:*** Available Device: _DeviceAttributes(/job:worker/replica:0/task:0/device:TPU_SYSTEM:0, TPU_SYSTEM, 0, 0)\n"
          ]
        },
        {
          "output_type": "stream",
          "name": "stdout",
          "text": [
            "INFO:tensorflow:*** Available Device: _DeviceAttributes(/job:worker/replica:0/task:0/device:XLA_CPU:0, XLA_CPU, 0, 0)\n"
          ]
        },
        {
          "output_type": "stream",
          "name": "stderr",
          "text": [
            "INFO:tensorflow:*** Available Device: _DeviceAttributes(/job:worker/replica:0/task:0/device:XLA_CPU:0, XLA_CPU, 0, 0)\n"
          ]
        }
      ],
      "source": [
        "%tensorflow_version 2.x\n",
        "import tensorflow as tf\n",
        "print(\"Tensorflow version \" + tf.__version__)\n",
        "\n",
        "try:\n",
        "  tpu = tf.distribute.cluster_resolver.TPUClusterResolver()  # TPU detection\n",
        "  print('Running on TPU ', tpu.cluster_spec().as_dict()['worker'])\n",
        "except ValueError:\n",
        "  raise BaseException('ERROR: Not connected to a TPU runtime; please see the previous cell in this notebook for instructions!')\n",
        "\n",
        "tf.config.experimental_connect_to_cluster(tpu)\n",
        "tf.tpu.experimental.initialize_tpu_system(tpu)\n",
        "tpu_strategy = tf.distribute.experimental.TPUStrategy(tpu)"
      ]
    },
    {
      "cell_type": "code",
      "source": [
        "from google.colab import drive\n",
        "drive.mount('/content/drive')\n",
        "DATA_PATH: str = \"/content/drive/My Drive/skripsi/preprocessed_newerer/\"\n",
        "DATA_TUNER: str = \"/content/drive/My Drive/skripsi/tuner/\"\n",
        "DATA_WEIGHT: str = \"/content/drive/My Drive/skripsi/weight/\""
      ],
      "metadata": {
        "colab": {
          "base_uri": "https://localhost:8080/"
        },
        "id": "kmheK3N7Rbpr",
        "outputId": "639dc49f-83fe-40c4-ed44-f549cdf598e0"
      },
      "execution_count": null,
      "outputs": [
        {
          "output_type": "stream",
          "name": "stdout",
          "text": [
            "Drive already mounted at /content/drive; to attempt to forcibly remount, call drive.mount(\"/content/drive\", force_remount=True).\n"
          ]
        }
      ]
    },
    {
      "cell_type": "code",
      "source": [
        "import pandas as pd\n",
        "\n",
        "datatrain = pd.read_csv(f'{DATA_PATH}data_train9010.csv')\n",
        "dataval = pd.read_csv(f'{DATA_PATH}data_val9010.csv')\n",
        "datatest = pd.read_csv(f'{DATA_PATH}data_test9010.csv')\n",
        "\n",
        "data_train = datatrain['tweets']\n",
        "data_val = dataval['tweets']\n",
        "data_test = datatest['tweets']\n",
        "\n",
        "y_train = datatrain['label']\n",
        "y_val = dataval['label']\n",
        "y_test = datatest['label']"
      ],
      "metadata": {
        "id": "FDaCeEHIRgQ2"
      },
      "execution_count": null,
      "outputs": []
    },
    {
      "cell_type": "code",
      "source": [
        "x = datatrain[\"tweets\"].str.split(\"\\\\s+\")"
      ],
      "metadata": {
        "id": "nXJC_m9xRmMP"
      },
      "execution_count": null,
      "outputs": []
    },
    {
      "cell_type": "code",
      "source": [
        "max_length = x.str.len().max()\n",
        "max_length"
      ],
      "metadata": {
        "colab": {
          "base_uri": "https://localhost:8080/"
        },
        "id": "FGgIuZUMRoEM",
        "outputId": "fbd8c32a-c387-4433-8d47-2d1f82764777"
      },
      "execution_count": null,
      "outputs": [
        {
          "output_type": "execute_result",
          "data": {
            "text/plain": [
              "48"
            ]
          },
          "metadata": {},
          "execution_count": 57
        }
      ]
    },
    {
      "cell_type": "code",
      "source": [
        "print(data_train)"
      ],
      "metadata": {
        "colab": {
          "base_uri": "https://localhost:8080/"
        },
        "id": "wEsEQfhNRp8c",
        "outputId": "a1302b80-8b34-4795-b3e4-a5a5bfbc5a39"
      },
      "execution_count": null,
      "outputs": [
        {
          "output_type": "stream",
          "name": "stdout",
          "text": [
            "0       presiden joko widodo jokowi tinjau vaksinasi m...\n",
            "1       ini jelas untuk anda yang sudah di vaksin tapi...\n",
            "2       masalah benar bukan pada vaksinasi lain bagaim...\n",
            "3                   ayo vaksin dan terap prokes dengan 5m\n",
            "4          astrazeneca masalah tetap pakai oleh australia\n",
            "                              ...                        \n",
            "2146    vaksinasi covid 19 dosis 1 untuk nakes lansia ...\n",
            "2147                        mama juga tidak berani vaksin\n",
            "2148    sementara untuk lansia terima vaksin dosis per...\n",
            "2149    orang guru di jombang berontak tidak mau sunti...\n",
            "2150    perintah terus upaya untuk kembang dan laku ad...\n",
            "Name: tweets, Length: 2151, dtype: object\n"
          ]
        }
      ]
    },
    {
      "cell_type": "code",
      "source": [
        "!pip install transformers"
      ],
      "metadata": {
        "colab": {
          "base_uri": "https://localhost:8080/"
        },
        "id": "KpiEOY2bRsaw",
        "outputId": "d94b6b17-1d3e-4852-bc46-994abc9b7727"
      },
      "execution_count": null,
      "outputs": [
        {
          "output_type": "stream",
          "name": "stdout",
          "text": [
            "Looking in indexes: https://pypi.org/simple, https://us-python.pkg.dev/colab-wheels/public/simple/\n",
            "Requirement already satisfied: transformers in /usr/local/lib/python3.7/dist-packages (4.19.2)\n",
            "Requirement already satisfied: tokenizers!=0.11.3,<0.13,>=0.11.1 in /usr/local/lib/python3.7/dist-packages (from transformers) (0.12.1)\n",
            "Requirement already satisfied: pyyaml>=5.1 in /usr/local/lib/python3.7/dist-packages (from transformers) (6.0)\n",
            "Requirement already satisfied: importlib-metadata in /usr/local/lib/python3.7/dist-packages (from transformers) (4.11.4)\n",
            "Requirement already satisfied: filelock in /usr/local/lib/python3.7/dist-packages (from transformers) (3.7.0)\n",
            "Requirement already satisfied: huggingface-hub<1.0,>=0.1.0 in /usr/local/lib/python3.7/dist-packages (from transformers) (0.7.0)\n",
            "Requirement already satisfied: requests in /usr/local/lib/python3.7/dist-packages (from transformers) (2.23.0)\n",
            "Requirement already satisfied: packaging>=20.0 in /usr/local/lib/python3.7/dist-packages (from transformers) (21.3)\n",
            "Requirement already satisfied: numpy>=1.17 in /usr/local/lib/python3.7/dist-packages (from transformers) (1.21.6)\n",
            "Requirement already satisfied: regex!=2019.12.17 in /usr/local/lib/python3.7/dist-packages (from transformers) (2019.12.20)\n",
            "Requirement already satisfied: tqdm>=4.27 in /usr/local/lib/python3.7/dist-packages (from transformers) (4.64.0)\n",
            "Requirement already satisfied: typing-extensions>=3.7.4.3 in /usr/local/lib/python3.7/dist-packages (from huggingface-hub<1.0,>=0.1.0->transformers) (4.2.0)\n",
            "Requirement already satisfied: pyparsing!=3.0.5,>=2.0.2 in /usr/local/lib/python3.7/dist-packages (from packaging>=20.0->transformers) (3.0.9)\n",
            "Requirement already satisfied: zipp>=0.5 in /usr/local/lib/python3.7/dist-packages (from importlib-metadata->transformers) (3.8.0)\n",
            "Requirement already satisfied: idna<3,>=2.5 in /usr/local/lib/python3.7/dist-packages (from requests->transformers) (2.10)\n",
            "Requirement already satisfied: certifi>=2017.4.17 in /usr/local/lib/python3.7/dist-packages (from requests->transformers) (2022.5.18.1)\n",
            "Requirement already satisfied: chardet<4,>=3.0.2 in /usr/local/lib/python3.7/dist-packages (from requests->transformers) (3.0.4)\n",
            "Requirement already satisfied: urllib3!=1.25.0,!=1.25.1,<1.26,>=1.21.1 in /usr/local/lib/python3.7/dist-packages (from requests->transformers) (1.24.3)\n"
          ]
        }
      ]
    },
    {
      "cell_type": "code",
      "source": [
        "from transformers import BertTokenizer, TFBertModel\n",
        "\n",
        "bert_tokenizer = BertTokenizer.from_pretrained(\"indobenchmark/indobert-large-p1\",\n",
        "                                               padding_side='right')\n",
        "bert_model = TFBertModel.from_pretrained(\"indobenchmark/indobert-large-p1\",\n",
        "                                         output_hidden_states=True)"
      ],
      "metadata": {
        "colab": {
          "base_uri": "https://localhost:8080/"
        },
        "id": "_EW2XFtBRwHX",
        "outputId": "3ba4262f-467e-4cd7-9a2e-2b11c3caa156"
      },
      "execution_count": null,
      "outputs": [
        {
          "output_type": "stream",
          "name": "stderr",
          "text": [
            "Some layers from the model checkpoint at indobenchmark/indobert-large-p1 were not used when initializing TFBertModel: ['mlm___cls', 'nsp___cls']\n",
            "- This IS expected if you are initializing TFBertModel from the checkpoint of a model trained on another task or with another architecture (e.g. initializing a BertForSequenceClassification model from a BertForPreTraining model).\n",
            "- This IS NOT expected if you are initializing TFBertModel from the checkpoint of a model that you expect to be exactly identical (initializing a BertForSequenceClassification model from a BertForSequenceClassification model).\n",
            "All the layers of TFBertModel were initialized from the model checkpoint at indobenchmark/indobert-large-p1.\n",
            "If your task is similar to the task the model of the checkpoint was trained on, you can already use TFBertModel for predictions without further training.\n"
          ]
        }
      ]
    },
    {
      "cell_type": "code",
      "source": [
        "def BERT(tweets):\n",
        "  vector = bert_model(tweets)\n",
        "  return vector"
      ],
      "metadata": {
        "id": "7_lK6vKbRw9i"
      },
      "execution_count": null,
      "outputs": []
    },
    {
      "cell_type": "code",
      "source": [
        "token_train = bert_tokenizer(list(data_train), padding='max_length', max_length=max_length, return_tensors='tf',truncation=True)\n",
        "token_val = bert_tokenizer(list(data_val), padding='max_length', max_length=max_length, return_tensors='tf',truncation=True)\n",
        "token_test = bert_tokenizer(list(data_test), padding='max_length', max_length=max_length, return_tensors='tf',truncation=True)"
      ],
      "metadata": {
        "id": "SFGdfTEuRzJh"
      },
      "execution_count": null,
      "outputs": []
    },
    {
      "cell_type": "code",
      "source": [
        "len(max(data_train, key=len))"
      ],
      "metadata": {
        "colab": {
          "base_uri": "https://localhost:8080/"
        },
        "id": "AVYGF5YbR1OD",
        "outputId": "d976b163-7552-4bd0-d1e1-9006bfb5c849"
      },
      "execution_count": null,
      "outputs": [
        {
          "output_type": "execute_result",
          "data": {
            "text/plain": [
              "281"
            ]
          },
          "metadata": {},
          "execution_count": 63
        }
      ]
    },
    {
      "cell_type": "code",
      "source": [
        "model_train = BERT(token_train)\n",
        "model_val = BERT(token_val)\n",
        "model_test = BERT(token_test)"
      ],
      "metadata": {
        "id": "ygmh-MLAR3GL"
      },
      "execution_count": null,
      "outputs": []
    },
    {
      "cell_type": "code",
      "source": [
        "features_train = model_train[0][:,0,:].numpy()\n",
        "features_val = model_val[0][:,0,:].numpy()\n",
        "features_test = model_test[0][:,0,:].numpy()"
      ],
      "metadata": {
        "id": "Ebw_4npFR5cc"
      },
      "execution_count": null,
      "outputs": []
    },
    {
      "cell_type": "code",
      "source": [
        "features_train"
      ],
      "metadata": {
        "colab": {
          "base_uri": "https://localhost:8080/"
        },
        "id": "qCLgLQwdR7Q6",
        "outputId": "6f272ea2-bd7a-4e89-831e-bf61cff76b8e"
      },
      "execution_count": null,
      "outputs": [
        {
          "output_type": "execute_result",
          "data": {
            "text/plain": [
              "array([[-0.4350667 , -1.273426  , -0.898422  , ..., -1.0775979 ,\n",
              "         0.42274976,  1.5482839 ],\n",
              "       [-0.30216938,  0.35711035,  0.29636976, ..., -0.40925738,\n",
              "         0.08504701,  0.07983024],\n",
              "       [-0.38426453,  0.28867266, -1.0103543 , ..., -0.9281738 ,\n",
              "         1.0634325 ,  0.41632196],\n",
              "       ...,\n",
              "       [-0.502687  , -1.0896932 , -0.1804666 , ..., -1.1075023 ,\n",
              "         0.03576082,  0.6788263 ],\n",
              "       [-0.19886273, -0.7822783 ,  0.26905808, ..., -1.56372   ,\n",
              "         0.3089442 ,  1.2542944 ],\n",
              "       [ 0.41064978,  0.12680872, -1.0102212 , ..., -1.0896696 ,\n",
              "         0.6687543 , -1.0804602 ]], dtype=float32)"
            ]
          },
          "metadata": {},
          "execution_count": 66
        }
      ]
    },
    {
      "cell_type": "code",
      "source": [
        "features_train.shape"
      ],
      "metadata": {
        "colab": {
          "base_uri": "https://localhost:8080/"
        },
        "id": "Tl-yCyh8R9V_",
        "outputId": "fd3da4b7-0aca-4975-d430-1316aad78fdb"
      },
      "execution_count": null,
      "outputs": [
        {
          "output_type": "execute_result",
          "data": {
            "text/plain": [
              "(2151, 1024)"
            ]
          },
          "metadata": {},
          "execution_count": 67
        }
      ]
    },
    {
      "cell_type": "code",
      "source": [
        "import numpy as np"
      ],
      "metadata": {
        "id": "Rb5sd42BR_QF"
      },
      "execution_count": null,
      "outputs": []
    },
    {
      "cell_type": "code",
      "source": [
        "x_train = np.reshape(features_train, features_train.shape + (1,))\n",
        "x_val = np.reshape(features_val, features_val.shape + (1,))\n",
        "x_test = np.reshape(features_test, features_test.shape + (1,))"
      ],
      "metadata": {
        "id": "jOFzhNDkSBHF"
      },
      "execution_count": null,
      "outputs": []
    },
    {
      "cell_type": "code",
      "source": [
        "x_train.shape"
      ],
      "metadata": {
        "colab": {
          "base_uri": "https://localhost:8080/"
        },
        "id": "T-BcIwvTSDKt",
        "outputId": "49cd7304-b4f9-4d29-f9ac-ee54036f7993"
      },
      "execution_count": null,
      "outputs": [
        {
          "output_type": "execute_result",
          "data": {
            "text/plain": [
              "(2151, 1024, 1)"
            ]
          },
          "metadata": {},
          "execution_count": 70
        }
      ]
    },
    {
      "cell_type": "code",
      "source": [
        "x_train1 = np.concatenate((x_train,x_val))\n",
        "x_train1.shape"
      ],
      "metadata": {
        "colab": {
          "base_uri": "https://localhost:8080/"
        },
        "id": "m3kJgXgXSGxX",
        "outputId": "def8eb70-dc3e-4133-8a7b-ed60d4b34dd0"
      },
      "execution_count": null,
      "outputs": [
        {
          "output_type": "execute_result",
          "data": {
            "text/plain": [
              "(2581, 1024, 1)"
            ]
          },
          "metadata": {},
          "execution_count": 71
        }
      ]
    },
    {
      "cell_type": "code",
      "source": [
        "from tensorflow.keras.utils import to_categorical\n",
        "y_train = to_categorical(datatrain['label'])\n",
        "y_val = to_categorical(dataval['label'])\n",
        "y_test = to_categorical(datatest['label'])\n",
        "print(y_train)"
      ],
      "metadata": {
        "colab": {
          "base_uri": "https://localhost:8080/"
        },
        "id": "fU-l90NiSIxf",
        "outputId": "3193710c-2960-4c88-a6e4-4f6c3af9d846"
      },
      "execution_count": null,
      "outputs": [
        {
          "output_type": "stream",
          "name": "stdout",
          "text": [
            "[[0. 0. 0. 1. 0.]\n",
            " [0. 0. 1. 0. 0.]\n",
            " [0. 0. 0. 1. 0.]\n",
            " ...\n",
            " [0. 0. 0. 1. 0.]\n",
            " [1. 0. 0. 0. 0.]\n",
            " [0. 0. 0. 0. 1.]]\n"
          ]
        }
      ]
    },
    {
      "cell_type": "code",
      "source": [
        "y_train1 = np.concatenate((y_train,y_val))"
      ],
      "metadata": {
        "id": "W-ytKF3YSQYB"
      },
      "execution_count": null,
      "outputs": []
    },
    {
      "cell_type": "code",
      "source": [
        "x_train.shape, x_val.shape, x_test.shape, y_train.shape, y_val.shape, y_test.shape"
      ],
      "metadata": {
        "colab": {
          "base_uri": "https://localhost:8080/"
        },
        "id": "uxvVaUm9SSXI",
        "outputId": "c69d3cab-b008-4317-c7fd-7c62299a4d1f"
      },
      "execution_count": null,
      "outputs": [
        {
          "output_type": "execute_result",
          "data": {
            "text/plain": [
              "((2151, 1024, 1),\n",
              " (430, 1024, 1),\n",
              " (287, 1024, 1),\n",
              " (2151, 5),\n",
              " (430, 5),\n",
              " (287, 5))"
            ]
          },
          "metadata": {},
          "execution_count": 74
        }
      ]
    },
    {
      "cell_type": "code",
      "source": [
        "def eval_model(x, y, model):\n",
        "    loss, accuracy = model.evaluate(x, y, verbose=False)\n",
        "    return loss, accuracy"
      ],
      "metadata": {
        "id": "kwpPtNJDSUYq"
      },
      "execution_count": null,
      "outputs": []
    },
    {
      "cell_type": "code",
      "source": [
        "!pip install keras-tuner"
      ],
      "metadata": {
        "colab": {
          "base_uri": "https://localhost:8080/"
        },
        "id": "oBDdapjKSWTq",
        "outputId": "598ac44c-c4b1-4bfc-8bec-a8c73c275e4e"
      },
      "execution_count": null,
      "outputs": [
        {
          "output_type": "stream",
          "name": "stdout",
          "text": [
            "Looking in indexes: https://pypi.org/simple, https://us-python.pkg.dev/colab-wheels/public/simple/\n",
            "Requirement already satisfied: keras-tuner in /usr/local/lib/python3.7/dist-packages (1.1.2)\n",
            "Requirement already satisfied: tensorboard in /usr/local/lib/python3.7/dist-packages (from keras-tuner) (2.8.0)\n",
            "Requirement already satisfied: ipython in /usr/local/lib/python3.7/dist-packages (from keras-tuner) (5.5.0)\n",
            "Requirement already satisfied: requests in /usr/local/lib/python3.7/dist-packages (from keras-tuner) (2.23.0)\n",
            "Requirement already satisfied: kt-legacy in /usr/local/lib/python3.7/dist-packages (from keras-tuner) (1.0.4)\n",
            "Requirement already satisfied: packaging in /usr/local/lib/python3.7/dist-packages (from keras-tuner) (21.3)\n",
            "Requirement already satisfied: numpy in /usr/local/lib/python3.7/dist-packages (from keras-tuner) (1.21.6)\n",
            "Requirement already satisfied: decorator in /usr/local/lib/python3.7/dist-packages (from ipython->keras-tuner) (4.4.2)\n",
            "Requirement already satisfied: prompt-toolkit<2.0.0,>=1.0.4 in /usr/local/lib/python3.7/dist-packages (from ipython->keras-tuner) (1.0.18)\n",
            "Requirement already satisfied: pygments in /usr/local/lib/python3.7/dist-packages (from ipython->keras-tuner) (2.6.1)\n",
            "Requirement already satisfied: pickleshare in /usr/local/lib/python3.7/dist-packages (from ipython->keras-tuner) (0.7.5)\n",
            "Requirement already satisfied: traitlets>=4.2 in /usr/local/lib/python3.7/dist-packages (from ipython->keras-tuner) (5.1.1)\n",
            "Requirement already satisfied: setuptools>=18.5 in /usr/local/lib/python3.7/dist-packages (from ipython->keras-tuner) (57.4.0)\n",
            "Requirement already satisfied: simplegeneric>0.8 in /usr/local/lib/python3.7/dist-packages (from ipython->keras-tuner) (0.8.1)\n",
            "Requirement already satisfied: pexpect in /usr/local/lib/python3.7/dist-packages (from ipython->keras-tuner) (4.8.0)\n",
            "Requirement already satisfied: wcwidth in /usr/local/lib/python3.7/dist-packages (from prompt-toolkit<2.0.0,>=1.0.4->ipython->keras-tuner) (0.2.5)\n",
            "Requirement already satisfied: six>=1.9.0 in /usr/local/lib/python3.7/dist-packages (from prompt-toolkit<2.0.0,>=1.0.4->ipython->keras-tuner) (1.15.0)\n",
            "Requirement already satisfied: pyparsing!=3.0.5,>=2.0.2 in /usr/local/lib/python3.7/dist-packages (from packaging->keras-tuner) (3.0.9)\n",
            "Requirement already satisfied: ptyprocess>=0.5 in /usr/local/lib/python3.7/dist-packages (from pexpect->ipython->keras-tuner) (0.7.0)\n",
            "Requirement already satisfied: certifi>=2017.4.17 in /usr/local/lib/python3.7/dist-packages (from requests->keras-tuner) (2022.5.18.1)\n",
            "Requirement already satisfied: chardet<4,>=3.0.2 in /usr/local/lib/python3.7/dist-packages (from requests->keras-tuner) (3.0.4)\n",
            "Requirement already satisfied: urllib3!=1.25.0,!=1.25.1,<1.26,>=1.21.1 in /usr/local/lib/python3.7/dist-packages (from requests->keras-tuner) (1.24.3)\n",
            "Requirement already satisfied: idna<3,>=2.5 in /usr/local/lib/python3.7/dist-packages (from requests->keras-tuner) (2.10)\n",
            "Requirement already satisfied: protobuf>=3.6.0 in /usr/local/lib/python3.7/dist-packages (from tensorboard->keras-tuner) (3.17.3)\n",
            "Requirement already satisfied: absl-py>=0.4 in /usr/local/lib/python3.7/dist-packages (from tensorboard->keras-tuner) (1.0.0)\n",
            "Requirement already satisfied: grpcio>=1.24.3 in /usr/local/lib/python3.7/dist-packages (from tensorboard->keras-tuner) (1.46.3)\n",
            "Requirement already satisfied: markdown>=2.6.8 in /usr/local/lib/python3.7/dist-packages (from tensorboard->keras-tuner) (3.3.7)\n",
            "Requirement already satisfied: tensorboard-data-server<0.7.0,>=0.6.0 in /usr/local/lib/python3.7/dist-packages (from tensorboard->keras-tuner) (0.6.1)\n",
            "Requirement already satisfied: werkzeug>=0.11.15 in /usr/local/lib/python3.7/dist-packages (from tensorboard->keras-tuner) (1.0.1)\n",
            "Requirement already satisfied: google-auth-oauthlib<0.5,>=0.4.1 in /usr/local/lib/python3.7/dist-packages (from tensorboard->keras-tuner) (0.4.6)\n",
            "Requirement already satisfied: tensorboard-plugin-wit>=1.6.0 in /usr/local/lib/python3.7/dist-packages (from tensorboard->keras-tuner) (1.8.1)\n",
            "Requirement already satisfied: wheel>=0.26 in /usr/local/lib/python3.7/dist-packages (from tensorboard->keras-tuner) (0.37.1)\n",
            "Requirement already satisfied: google-auth<3,>=1.6.3 in /usr/local/lib/python3.7/dist-packages (from tensorboard->keras-tuner) (1.35.0)\n",
            "Requirement already satisfied: rsa<5,>=3.1.4 in /usr/local/lib/python3.7/dist-packages (from google-auth<3,>=1.6.3->tensorboard->keras-tuner) (4.8)\n",
            "Requirement already satisfied: pyasn1-modules>=0.2.1 in /usr/local/lib/python3.7/dist-packages (from google-auth<3,>=1.6.3->tensorboard->keras-tuner) (0.2.8)\n",
            "Requirement already satisfied: cachetools<5.0,>=2.0.0 in /usr/local/lib/python3.7/dist-packages (from google-auth<3,>=1.6.3->tensorboard->keras-tuner) (4.2.4)\n",
            "Requirement already satisfied: requests-oauthlib>=0.7.0 in /usr/local/lib/python3.7/dist-packages (from google-auth-oauthlib<0.5,>=0.4.1->tensorboard->keras-tuner) (1.3.1)\n",
            "Requirement already satisfied: importlib-metadata>=4.4 in /usr/local/lib/python3.7/dist-packages (from markdown>=2.6.8->tensorboard->keras-tuner) (4.11.4)\n",
            "Requirement already satisfied: zipp>=0.5 in /usr/local/lib/python3.7/dist-packages (from importlib-metadata>=4.4->markdown>=2.6.8->tensorboard->keras-tuner) (3.8.0)\n",
            "Requirement already satisfied: typing-extensions>=3.6.4 in /usr/local/lib/python3.7/dist-packages (from importlib-metadata>=4.4->markdown>=2.6.8->tensorboard->keras-tuner) (4.2.0)\n",
            "Requirement already satisfied: pyasn1<0.5.0,>=0.4.6 in /usr/local/lib/python3.7/dist-packages (from pyasn1-modules>=0.2.1->google-auth<3,>=1.6.3->tensorboard->keras-tuner) (0.4.8)\n",
            "Requirement already satisfied: oauthlib>=3.0.0 in /usr/local/lib/python3.7/dist-packages (from requests-oauthlib>=0.7.0->google-auth-oauthlib<0.5,>=0.4.1->tensorboard->keras-tuner) (3.2.0)\n"
          ]
        }
      ]
    },
    {
      "cell_type": "code",
      "source": [
        "import kerastuner as kt\n",
        "from kerastuner.tuners import Hyperband\n",
        "from kerastuner.engine.hyperparameters import HyperParameters\n",
        "from tensorflow.keras import regularizers"
      ],
      "metadata": {
        "id": "nhvqS0QTSYCa"
      },
      "execution_count": null,
      "outputs": []
    },
    {
      "cell_type": "code",
      "source": [
        "def BERT_CNN(hp):\n",
        "    model = Sequential()\n",
        "    model.add(Conv1D(filters=hp.Choice('conv_filters', values=[32, 64, 128,256]), \n",
        "                   kernel_size=hp.Choice('kernel_size', values=[2,3,4]), \n",
        "                   activation='relu'))\n",
        "    model.add(MaxPooling1D(pool_size=hp.Choice('pool_size', values=[2,3,4])))\n",
        "    model.add(Flatten())\n",
        "    model.add(Dropout(0.5))\n",
        "    model.add(Dense(units=hp.Choice('dense_units', values = [32, 64, 128,256]), \n",
        "                  activation='relu'))\n",
        "    model.add(Dense(5, activation='softmax')) \n",
        "\n",
        "    adam = tf.optimizers.Adam(hp.Choice('learning_rate',\n",
        "                                        values=[1e-3, 1e-4, 5e-5, 1e-5]))\n",
        "    model.compile(optimizer = adam, loss = 'categorical_crossentropy', \n",
        "                  metrics=['accuracy'])          \n",
        "    \n",
        "    return model"
      ],
      "metadata": {
        "id": "BpN0TOy9SaZl"
      },
      "execution_count": null,
      "outputs": []
    },
    {
      "cell_type": "code",
      "source": [
        "import tensorflow as tf\n",
        "from tensorflow.keras.models import load_model\n",
        "from tensorflow.keras.utils import plot_model\n",
        "from tensorflow.keras import models\n",
        "from tensorflow.keras import callbacks\n",
        "from tensorflow.keras import regularizers\n",
        "from tensorflow.keras.callbacks import ModelCheckpoint, EarlyStopping\n",
        "from tensorflow.keras.preprocessing.text import Tokenizer\n",
        "from tensorflow.keras.preprocessing.sequence import pad_sequences\n",
        "from tensorflow.keras.utils import to_categorical\n",
        "from tensorflow.keras.models import Sequential\n",
        "from tensorflow.keras.layers import Dense, Embedding, Activation, Dropout\n",
        "from tensorflow.keras.layers import Conv1D, GlobalMaxPooling1D, MaxPooling1D, Flatten"
      ],
      "metadata": {
        "id": "cmjy967lSdJ8"
      },
      "execution_count": null,
      "outputs": []
    },
    {
      "cell_type": "code",
      "source": [
        "tuner = Hyperband(\n",
        "    BERT_CNN,\n",
        "    max_epochs=100,\n",
        "    objective='val_accuracy',\n",
        "    directory=DATA_TUNER,\n",
        "    project_name='testnewerer_bert_cnn_001'\n",
        ")"
      ],
      "metadata": {
        "colab": {
          "base_uri": "https://localhost:8080/"
        },
        "id": "7YQyou8QSfJE",
        "outputId": "3a8d7f3f-9577-4e72-827a-e9004bbd0967"
      },
      "execution_count": null,
      "outputs": [
        {
          "output_type": "stream",
          "name": "stdout",
          "text": [
            "INFO:tensorflow:Reloading Oracle from existing project /content/drive/My Drive/skripsi/tuner/testnewerer_bert_cnn_001/oracle.json\n"
          ]
        },
        {
          "output_type": "stream",
          "name": "stderr",
          "text": [
            "INFO:tensorflow:Reloading Oracle from existing project /content/drive/My Drive/skripsi/tuner/testnewerer_bert_cnn_001/oracle.json\n"
          ]
        },
        {
          "output_type": "stream",
          "name": "stdout",
          "text": [
            "INFO:tensorflow:Reloading Tuner from /content/drive/My Drive/skripsi/tuner/testnewerer_bert_cnn_001/tuner0.json\n"
          ]
        },
        {
          "output_type": "stream",
          "name": "stderr",
          "text": [
            "INFO:tensorflow:Reloading Tuner from /content/drive/My Drive/skripsi/tuner/testnewerer_bert_cnn_001/tuner0.json\n"
          ]
        }
      ]
    },
    {
      "cell_type": "code",
      "source": [
        "tuner.search(x_train, y_train, epochs=100, validation_data=(x_val, y_val))"
      ],
      "metadata": {
        "colab": {
          "base_uri": "https://localhost:8080/"
        },
        "id": "FdyNhDKaShKl",
        "outputId": "8672731b-8b3e-4e02-db62-f08cc92d28a7"
      },
      "execution_count": null,
      "outputs": [
        {
          "output_type": "stream",
          "name": "stdout",
          "text": [
            "Trial 254 Complete [00h 02m 00s]\n",
            "val_accuracy: 0.6674418449401855\n",
            "\n",
            "Best val_accuracy So Far: 0.6744186282157898\n",
            "Total elapsed time: 01h 24m 03s\n",
            "INFO:tensorflow:Oracle triggered exit\n"
          ]
        },
        {
          "output_type": "stream",
          "name": "stderr",
          "text": [
            "INFO:tensorflow:Oracle triggered exit\n"
          ]
        }
      ]
    },
    {
      "cell_type": "code",
      "source": [
        "tuner.get_best_hyperparameters()[0].values"
      ],
      "metadata": {
        "colab": {
          "base_uri": "https://localhost:8080/"
        },
        "id": "U_-5YmPmSi-7",
        "outputId": "b6bb435d-3984-4a87-eb97-c6f9389d5ee3"
      },
      "execution_count": null,
      "outputs": [
        {
          "output_type": "execute_result",
          "data": {
            "text/plain": [
              "{'conv_filters': 32,\n",
              " 'dense_units': 32,\n",
              " 'kernel_size': 3,\n",
              " 'learning_rate': 0.0001,\n",
              " 'pool_size': 2,\n",
              " 'tuner/bracket': 1,\n",
              " 'tuner/epochs': 100,\n",
              " 'tuner/initial_epoch': 34,\n",
              " 'tuner/round': 1,\n",
              " 'tuner/trial_id': '0239'}"
            ]
          },
          "metadata": {},
          "execution_count": 128
        }
      ]
    },
    {
      "cell_type": "code",
      "source": [
        "tuner.results_summary()"
      ],
      "metadata": {
        "colab": {
          "base_uri": "https://localhost:8080/"
        },
        "id": "qeW1xJH_Sk1A",
        "outputId": "c1fdef17-4101-4c4f-c5ab-1201087bc7c3"
      },
      "execution_count": null,
      "outputs": [
        {
          "output_type": "stream",
          "name": "stdout",
          "text": [
            "Results summary\n",
            "Results in /content/drive/My Drive/skripsi/tuner/testnewerer_bert_cnn_001\n",
            "Showing 10 best trials\n",
            "<keras_tuner.engine.objective.Objective object at 0x7f68eb9fe610>\n",
            "Trial summary\n",
            "Hyperparameters:\n",
            "conv_filters: 32\n",
            "kernel_size: 3\n",
            "pool_size: 2\n",
            "dense_units: 32\n",
            "learning_rate: 0.0001\n",
            "tuner/epochs: 100\n",
            "tuner/initial_epoch: 34\n",
            "tuner/bracket: 1\n",
            "tuner/round: 1\n",
            "tuner/trial_id: 0239\n",
            "Score: 0.6744186282157898\n",
            "Trial summary\n",
            "Hyperparameters:\n",
            "conv_filters: 64\n",
            "kernel_size: 4\n",
            "pool_size: 4\n",
            "dense_units: 256\n",
            "learning_rate: 0.0001\n",
            "tuner/epochs: 100\n",
            "tuner/initial_epoch: 34\n",
            "tuner/bracket: 3\n",
            "tuner/round: 3\n",
            "tuner/trial_id: 0205\n",
            "Score: 0.6720930337905884\n",
            "Trial summary\n",
            "Hyperparameters:\n",
            "conv_filters: 128\n",
            "kernel_size: 4\n",
            "pool_size: 4\n",
            "dense_units: 256\n",
            "learning_rate: 5e-05\n",
            "tuner/epochs: 100\n",
            "tuner/initial_epoch: 0\n",
            "tuner/bracket: 0\n",
            "tuner/round: 0\n",
            "Score: 0.669767439365387\n",
            "Trial summary\n",
            "Hyperparameters:\n",
            "conv_filters: 32\n",
            "kernel_size: 4\n",
            "pool_size: 4\n",
            "dense_units: 128\n",
            "learning_rate: 5e-05\n",
            "tuner/epochs: 100\n",
            "tuner/initial_epoch: 0\n",
            "tuner/bracket: 0\n",
            "tuner/round: 0\n",
            "Score: 0.6674418449401855\n",
            "Trial summary\n",
            "Hyperparameters:\n",
            "conv_filters: 128\n",
            "kernel_size: 2\n",
            "pool_size: 2\n",
            "dense_units: 128\n",
            "learning_rate: 0.001\n",
            "tuner/epochs: 100\n",
            "tuner/initial_epoch: 0\n",
            "tuner/bracket: 0\n",
            "tuner/round: 0\n",
            "Score: 0.6651162505149841\n",
            "Trial summary\n",
            "Hyperparameters:\n",
            "conv_filters: 32\n",
            "kernel_size: 3\n",
            "pool_size: 2\n",
            "dense_units: 32\n",
            "learning_rate: 0.0001\n",
            "tuner/epochs: 34\n",
            "tuner/initial_epoch: 0\n",
            "tuner/bracket: 1\n",
            "tuner/round: 0\n",
            "Score: 0.6627907156944275\n",
            "Trial summary\n",
            "Hyperparameters:\n",
            "conv_filters: 32\n",
            "kernel_size: 3\n",
            "pool_size: 2\n",
            "dense_units: 256\n",
            "learning_rate: 0.001\n",
            "tuner/epochs: 100\n",
            "tuner/initial_epoch: 34\n",
            "tuner/bracket: 3\n",
            "tuner/round: 3\n",
            "tuner/trial_id: 0207\n",
            "Score: 0.6604651212692261\n",
            "Trial summary\n",
            "Hyperparameters:\n",
            "conv_filters: 64\n",
            "kernel_size: 4\n",
            "pool_size: 4\n",
            "dense_units: 256\n",
            "learning_rate: 0.0001\n",
            "tuner/epochs: 34\n",
            "tuner/initial_epoch: 12\n",
            "tuner/bracket: 3\n",
            "tuner/round: 2\n",
            "tuner/trial_id: 0200\n",
            "Score: 0.6581395268440247\n",
            "Trial summary\n",
            "Hyperparameters:\n",
            "conv_filters: 32\n",
            "kernel_size: 3\n",
            "pool_size: 2\n",
            "dense_units: 256\n",
            "learning_rate: 0.001\n",
            "tuner/epochs: 34\n",
            "tuner/initial_epoch: 12\n",
            "tuner/bracket: 3\n",
            "tuner/round: 2\n",
            "tuner/trial_id: 0189\n",
            "Score: 0.6581395268440247\n",
            "Trial summary\n",
            "Hyperparameters:\n",
            "conv_filters: 64\n",
            "kernel_size: 3\n",
            "pool_size: 4\n",
            "dense_units: 256\n",
            "learning_rate: 0.001\n",
            "tuner/epochs: 34\n",
            "tuner/initial_epoch: 12\n",
            "tuner/bracket: 2\n",
            "tuner/round: 1\n",
            "tuner/trial_id: 0227\n",
            "Score: 0.6581395268440247\n"
          ]
        }
      ]
    },
    {
      "cell_type": "code",
      "source": [
        "best_hps = tuner.get_best_hyperparameters(num_trials=1)[0]"
      ],
      "metadata": {
        "id": "SHGbfme6Smug"
      },
      "execution_count": null,
      "outputs": []
    },
    {
      "cell_type": "code",
      "source": [
        "model_cnn = BERT_CNN(best_hps)"
      ],
      "metadata": {
        "id": "1Nng2b-9Sowg"
      },
      "execution_count": null,
      "outputs": []
    },
    {
      "cell_type": "code",
      "source": [
        " es_callbacks = [EarlyStopping(monitor=\"val_loss\", min_delta=0.001, patience=10)]\n",
        " \n",
        " \n",
        " history = model_cnn.fit(x_train,\n",
        "           y_train,\n",
        "           epochs=100,\n",
        "           validation_data=(x_val, y_val),\n",
        "           callbacks=[es_callbacks])"
      ],
      "metadata": {
        "colab": {
          "base_uri": "https://localhost:8080/"
        },
        "id": "KlNaOduwSqvg",
        "outputId": "ee59b570-c896-4267-98b4-0640ed30a0c6"
      },
      "execution_count": null,
      "outputs": [
        {
          "output_type": "stream",
          "name": "stdout",
          "text": [
            "Epoch 1/100\n",
            "68/68 [==============================] - 2s 19ms/step - loss: 1.5113 - accuracy: 0.3366 - val_loss: 1.4153 - val_accuracy: 0.4093\n",
            "Epoch 2/100\n",
            "68/68 [==============================] - 1s 15ms/step - loss: 1.3624 - accuracy: 0.4458 - val_loss: 1.3501 - val_accuracy: 0.4186\n",
            "Epoch 3/100\n",
            "68/68 [==============================] - 1s 16ms/step - loss: 1.2837 - accuracy: 0.4686 - val_loss: 1.2953 - val_accuracy: 0.4535\n",
            "Epoch 4/100\n",
            "68/68 [==============================] - 1s 20ms/step - loss: 1.2289 - accuracy: 0.4960 - val_loss: 1.2440 - val_accuracy: 0.4744\n",
            "Epoch 5/100\n",
            "68/68 [==============================] - 1s 18ms/step - loss: 1.1776 - accuracy: 0.5291 - val_loss: 1.2464 - val_accuracy: 0.4860\n",
            "Epoch 6/100\n",
            "68/68 [==============================] - 1s 19ms/step - loss: 1.1498 - accuracy: 0.5402 - val_loss: 1.1807 - val_accuracy: 0.5209\n",
            "Epoch 7/100\n",
            "68/68 [==============================] - 1s 18ms/step - loss: 1.1179 - accuracy: 0.5467 - val_loss: 1.1535 - val_accuracy: 0.5372\n",
            "Epoch 8/100\n",
            "68/68 [==============================] - 1s 17ms/step - loss: 1.0790 - accuracy: 0.5830 - val_loss: 1.1433 - val_accuracy: 0.5256\n",
            "Epoch 9/100\n",
            "68/68 [==============================] - 1s 18ms/step - loss: 1.0458 - accuracy: 0.5904 - val_loss: 1.1071 - val_accuracy: 0.5581\n",
            "Epoch 10/100\n",
            "68/68 [==============================] - 1s 16ms/step - loss: 1.0188 - accuracy: 0.5955 - val_loss: 1.0948 - val_accuracy: 0.5535\n",
            "Epoch 11/100\n",
            "68/68 [==============================] - 1s 16ms/step - loss: 1.0017 - accuracy: 0.6118 - val_loss: 1.0836 - val_accuracy: 0.5395\n",
            "Epoch 12/100\n",
            "68/68 [==============================] - 1s 16ms/step - loss: 0.9893 - accuracy: 0.6099 - val_loss: 1.0519 - val_accuracy: 0.5860\n",
            "Epoch 13/100\n",
            "68/68 [==============================] - 1s 15ms/step - loss: 0.9631 - accuracy: 0.6216 - val_loss: 1.0430 - val_accuracy: 0.5674\n",
            "Epoch 14/100\n",
            "68/68 [==============================] - 1s 17ms/step - loss: 0.9348 - accuracy: 0.6364 - val_loss: 1.0387 - val_accuracy: 0.5721\n",
            "Epoch 15/100\n",
            "68/68 [==============================] - 1s 20ms/step - loss: 0.9130 - accuracy: 0.6444 - val_loss: 1.0116 - val_accuracy: 0.5814\n",
            "Epoch 16/100\n",
            "68/68 [==============================] - 1s 18ms/step - loss: 0.9123 - accuracy: 0.6532 - val_loss: 1.0261 - val_accuracy: 0.5628\n",
            "Epoch 17/100\n",
            "68/68 [==============================] - 1s 16ms/step - loss: 0.8955 - accuracy: 0.6430 - val_loss: 0.9841 - val_accuracy: 0.6023\n",
            "Epoch 18/100\n",
            "68/68 [==============================] - 1s 16ms/step - loss: 0.8645 - accuracy: 0.6727 - val_loss: 0.9766 - val_accuracy: 0.6070\n",
            "Epoch 19/100\n",
            "68/68 [==============================] - 1s 16ms/step - loss: 0.8500 - accuracy: 0.6820 - val_loss: 0.9762 - val_accuracy: 0.6116\n",
            "Epoch 20/100\n",
            "68/68 [==============================] - 1s 16ms/step - loss: 0.8431 - accuracy: 0.6788 - val_loss: 0.9642 - val_accuracy: 0.6093\n",
            "Epoch 21/100\n",
            "68/68 [==============================] - 1s 16ms/step - loss: 0.8273 - accuracy: 0.6918 - val_loss: 0.9576 - val_accuracy: 0.5953\n",
            "Epoch 22/100\n",
            "68/68 [==============================] - 1s 16ms/step - loss: 0.8106 - accuracy: 0.6918 - val_loss: 0.9590 - val_accuracy: 0.6000\n",
            "Epoch 23/100\n",
            "68/68 [==============================] - 1s 16ms/step - loss: 0.8127 - accuracy: 0.6857 - val_loss: 0.9479 - val_accuracy: 0.6023\n",
            "Epoch 24/100\n",
            "68/68 [==============================] - 1s 16ms/step - loss: 0.7932 - accuracy: 0.6955 - val_loss: 0.9459 - val_accuracy: 0.6070\n",
            "Epoch 25/100\n",
            "68/68 [==============================] - 1s 16ms/step - loss: 0.7648 - accuracy: 0.7099 - val_loss: 0.9255 - val_accuracy: 0.6372\n",
            "Epoch 26/100\n",
            "68/68 [==============================] - 1s 16ms/step - loss: 0.7651 - accuracy: 0.7094 - val_loss: 0.9299 - val_accuracy: 0.6163\n",
            "Epoch 27/100\n",
            "68/68 [==============================] - 1s 16ms/step - loss: 0.7571 - accuracy: 0.7183 - val_loss: 0.9182 - val_accuracy: 0.6209\n",
            "Epoch 28/100\n",
            "68/68 [==============================] - 1s 16ms/step - loss: 0.7490 - accuracy: 0.7164 - val_loss: 0.9224 - val_accuracy: 0.6163\n",
            "Epoch 29/100\n",
            "68/68 [==============================] - 1s 16ms/step - loss: 0.7339 - accuracy: 0.7220 - val_loss: 0.9202 - val_accuracy: 0.6140\n",
            "Epoch 30/100\n",
            "68/68 [==============================] - 1s 16ms/step - loss: 0.7322 - accuracy: 0.7243 - val_loss: 0.9281 - val_accuracy: 0.6070\n",
            "Epoch 31/100\n",
            "68/68 [==============================] - 1s 16ms/step - loss: 0.7324 - accuracy: 0.7248 - val_loss: 0.9278 - val_accuracy: 0.6116\n",
            "Epoch 32/100\n",
            "68/68 [==============================] - 1s 16ms/step - loss: 0.7208 - accuracy: 0.7262 - val_loss: 0.9107 - val_accuracy: 0.6442\n",
            "Epoch 33/100\n",
            "68/68 [==============================] - 1s 16ms/step - loss: 0.7130 - accuracy: 0.7243 - val_loss: 0.9060 - val_accuracy: 0.6372\n",
            "Epoch 34/100\n",
            "68/68 [==============================] - 1s 16ms/step - loss: 0.6920 - accuracy: 0.7299 - val_loss: 0.9259 - val_accuracy: 0.6395\n",
            "Epoch 35/100\n",
            "68/68 [==============================] - 1s 15ms/step - loss: 0.6886 - accuracy: 0.7415 - val_loss: 0.9002 - val_accuracy: 0.6488\n",
            "Epoch 36/100\n",
            "68/68 [==============================] - 1s 15ms/step - loss: 0.6794 - accuracy: 0.7401 - val_loss: 0.9081 - val_accuracy: 0.6349\n",
            "Epoch 37/100\n",
            "68/68 [==============================] - 1s 16ms/step - loss: 0.6740 - accuracy: 0.7457 - val_loss: 0.9033 - val_accuracy: 0.6419\n",
            "Epoch 38/100\n",
            "68/68 [==============================] - 1s 16ms/step - loss: 0.6652 - accuracy: 0.7592 - val_loss: 0.9005 - val_accuracy: 0.6372\n",
            "Epoch 39/100\n",
            "68/68 [==============================] - 1s 16ms/step - loss: 0.6544 - accuracy: 0.7503 - val_loss: 0.9103 - val_accuracy: 0.6512\n",
            "Epoch 40/100\n",
            "68/68 [==============================] - 1s 16ms/step - loss: 0.6495 - accuracy: 0.7652 - val_loss: 0.8986 - val_accuracy: 0.6512\n",
            "Epoch 41/100\n",
            "68/68 [==============================] - 1s 15ms/step - loss: 0.6421 - accuracy: 0.7685 - val_loss: 0.9041 - val_accuracy: 0.6372\n",
            "Epoch 42/100\n",
            "68/68 [==============================] - 1s 15ms/step - loss: 0.6343 - accuracy: 0.7638 - val_loss: 0.8964 - val_accuracy: 0.6488\n",
            "Epoch 43/100\n",
            "68/68 [==============================] - 1s 15ms/step - loss: 0.6201 - accuracy: 0.7768 - val_loss: 0.8973 - val_accuracy: 0.6558\n",
            "Epoch 44/100\n",
            "68/68 [==============================] - 1s 16ms/step - loss: 0.6263 - accuracy: 0.7629 - val_loss: 0.9352 - val_accuracy: 0.6233\n",
            "Epoch 45/100\n",
            "68/68 [==============================] - 1s 15ms/step - loss: 0.6139 - accuracy: 0.7745 - val_loss: 0.8989 - val_accuracy: 0.6488\n",
            "Epoch 46/100\n",
            "68/68 [==============================] - 1s 16ms/step - loss: 0.6067 - accuracy: 0.7731 - val_loss: 0.8995 - val_accuracy: 0.6465\n",
            "Epoch 47/100\n",
            "68/68 [==============================] - 1s 15ms/step - loss: 0.6039 - accuracy: 0.7759 - val_loss: 0.9103 - val_accuracy: 0.6558\n",
            "Epoch 48/100\n",
            "68/68 [==============================] - 1s 16ms/step - loss: 0.6087 - accuracy: 0.7699 - val_loss: 0.9358 - val_accuracy: 0.6326\n",
            "Epoch 49/100\n",
            "68/68 [==============================] - 1s 16ms/step - loss: 0.6003 - accuracy: 0.7745 - val_loss: 0.9158 - val_accuracy: 0.6465\n",
            "Epoch 50/100\n",
            "68/68 [==============================] - 1s 15ms/step - loss: 0.5870 - accuracy: 0.7940 - val_loss: 0.9038 - val_accuracy: 0.6535\n",
            "Epoch 51/100\n",
            "68/68 [==============================] - 1s 16ms/step - loss: 0.5804 - accuracy: 0.7885 - val_loss: 0.9312 - val_accuracy: 0.6372\n",
            "Epoch 52/100\n",
            "68/68 [==============================] - 1s 16ms/step - loss: 0.5707 - accuracy: 0.7885 - val_loss: 0.9579 - val_accuracy: 0.6186\n"
          ]
        }
      ]
    },
    {
      "cell_type": "code",
      "source": [
        "import matplotlib.pyplot as plt"
      ],
      "metadata": {
        "id": "SWm8sbrwSszc"
      },
      "execution_count": null,
      "outputs": []
    },
    {
      "cell_type": "code",
      "source": [
        " accuracy = history.history['accuracy']\n",
        " val_accuracy = history.history['val_accuracy']\n",
        " loss = history.history['loss']\n",
        " val_loss = history.history['val_loss']\n",
        " x = range(1, len(accuracy) + 1)\n",
        "\n",
        " plt.figure(figsize=(12, 5))\n",
        " plt.subplot(1, 2, 1)\n",
        " plt.plot(x, accuracy, 'b', label='Train accuracy')\n",
        " plt.plot(x, val_accuracy, 'r', label='Validation accuracy')\n",
        " plt.title('Training and validation accuracy')\n",
        " plt.xlabel('epochs')\n",
        " plt.ylabel('accuracy')\n",
        " plt.legend()\n",
        " plt.subplot(1, 2, 2)\n",
        " plt.plot(x, loss, 'b', label='Training loss')\n",
        " plt.plot(x, val_loss, 'r', label='Validation loss')\n",
        " plt.title('Training and validation loss')\n",
        " plt.xlabel('epochs')\n",
        " plt.ylabel('loss')\n",
        " plt.legend()\n",
        " plt.suptitle('Model Evaluation', fontsize=14)\n",
        " plt.savefig('cnn_graph.png')"
      ],
      "metadata": {
        "colab": {
          "base_uri": "https://localhost:8080/",
          "height": 370
        },
        "id": "jSYzo73lSufb",
        "outputId": "067a2ae6-39c6-4669-9701-4e70731110dc"
      },
      "execution_count": null,
      "outputs": [
        {
          "output_type": "display_data",
          "data": {
            "text/plain": [
              "<Figure size 864x360 with 2 Axes>"
            ],
            "image/png": "[encoded data removed]"
          },
          "metadata": {
            "needs_background": "light"
          }
        }
      ]
    },
    {
      "cell_type": "code",
      "source": [
        "es_callbacks = [EarlyStopping(monitor=\"val_loss\", min_delta=0.001, patience=10)]\n",
        " \n",
        " \n",
        "history = model_cnn.fit(x_train1,\n",
        "          y_train1,\n",
        "          epochs=100,\n",
        "          validation_data=(x_test, y_test),\n",
        "          callbacks=[es_callbacks])"
      ],
      "metadata": {
        "colab": {
          "base_uri": "https://localhost:8080/"
        },
        "id": "qgirsLLUSydd",
        "outputId": "a4a3dccc-a750-4f4e-cfb3-858bc8630462"
      },
      "execution_count": null,
      "outputs": [
        {
          "output_type": "stream",
          "name": "stdout",
          "text": [
            "Epoch 1/100\n",
            "81/81 [==============================] - 1s 16ms/step - loss: 0.6371 - accuracy: 0.7671 - val_loss: 0.9762 - val_accuracy: 0.6132\n",
            "Epoch 2/100\n",
            "81/81 [==============================] - 1s 15ms/step - loss: 0.6213 - accuracy: 0.7691 - val_loss: 0.9741 - val_accuracy: 0.5993\n",
            "Epoch 3/100\n",
            "81/81 [==============================] - 1s 15ms/step - loss: 0.6109 - accuracy: 0.7726 - val_loss: 0.9610 - val_accuracy: 0.6098\n",
            "Epoch 4/100\n",
            "81/81 [==============================] - 1s 15ms/step - loss: 0.6287 - accuracy: 0.7582 - val_loss: 0.9938 - val_accuracy: 0.6098\n",
            "Epoch 5/100\n",
            "81/81 [==============================] - 1s 15ms/step - loss: 0.6063 - accuracy: 0.7726 - val_loss: 0.9653 - val_accuracy: 0.6237\n",
            "Epoch 6/100\n",
            "81/81 [==============================] - 1s 15ms/step - loss: 0.6009 - accuracy: 0.7745 - val_loss: 0.9585 - val_accuracy: 0.6202\n",
            "Epoch 7/100\n",
            "81/81 [==============================] - 1s 15ms/step - loss: 0.5932 - accuracy: 0.7815 - val_loss: 0.9652 - val_accuracy: 0.6202\n",
            "Epoch 8/100\n",
            "81/81 [==============================] - 1s 15ms/step - loss: 0.5900 - accuracy: 0.7714 - val_loss: 0.9734 - val_accuracy: 0.6237\n",
            "Epoch 9/100\n",
            "81/81 [==============================] - 1s 15ms/step - loss: 0.5754 - accuracy: 0.7900 - val_loss: 0.9498 - val_accuracy: 0.6411\n",
            "Epoch 10/100\n",
            "81/81 [==============================] - 1s 15ms/step - loss: 0.5743 - accuracy: 0.7854 - val_loss: 0.9907 - val_accuracy: 0.6132\n",
            "Epoch 11/100\n",
            "81/81 [==============================] - 1s 15ms/step - loss: 0.5738 - accuracy: 0.7834 - val_loss: 0.9538 - val_accuracy: 0.6272\n",
            "Epoch 12/100\n",
            "81/81 [==============================] - 1s 15ms/step - loss: 0.5719 - accuracy: 0.7916 - val_loss: 0.9669 - val_accuracy: 0.6307\n",
            "Epoch 13/100\n",
            "81/81 [==============================] - 1s 15ms/step - loss: 0.5618 - accuracy: 0.7877 - val_loss: 0.9625 - val_accuracy: 0.6307\n",
            "Epoch 14/100\n",
            "81/81 [==============================] - 1s 15ms/step - loss: 0.5406 - accuracy: 0.7985 - val_loss: 0.9934 - val_accuracy: 0.6202\n",
            "Epoch 15/100\n",
            "81/81 [==============================] - 1s 15ms/step - loss: 0.5437 - accuracy: 0.8059 - val_loss: 0.9517 - val_accuracy: 0.6376\n",
            "Epoch 16/100\n",
            "81/81 [==============================] - 1s 15ms/step - loss: 0.5414 - accuracy: 0.8012 - val_loss: 0.9518 - val_accuracy: 0.6237\n",
            "Epoch 17/100\n",
            "81/81 [==============================] - 1s 15ms/step - loss: 0.5508 - accuracy: 0.7854 - val_loss: 0.9889 - val_accuracy: 0.6202\n",
            "Epoch 18/100\n",
            "81/81 [==============================] - 1s 15ms/step - loss: 0.5374 - accuracy: 0.7993 - val_loss: 0.9660 - val_accuracy: 0.6307\n",
            "Epoch 19/100\n",
            "81/81 [==============================] - 1s 15ms/step - loss: 0.5219 - accuracy: 0.8032 - val_loss: 1.0150 - val_accuracy: 0.6132\n"
          ]
        }
      ]
    },
    {
      "cell_type": "code",
      "source": [
        "model_cnn.summary()"
      ],
      "metadata": {
        "colab": {
          "base_uri": "https://localhost:8080/"
        },
        "id": "sFa1FBfRS0hI",
        "outputId": "57d09fab-993b-4c34-9323-99dc04fc8ad6"
      },
      "execution_count": null,
      "outputs": [
        {
          "output_type": "stream",
          "name": "stdout",
          "text": [
            "Model: \"sequential_1\"\n",
            "_________________________________________________________________\n",
            " Layer (type)                Output Shape              Param #   \n",
            "=================================================================\n",
            " conv1d_1 (Conv1D)           (None, 1022, 32)          128       \n",
            "                                                                 \n",
            " max_pooling1d_1 (MaxPooling  (None, 511, 32)          0         \n",
            " 1D)                                                             \n",
            "                                                                 \n",
            " flatten_1 (Flatten)         (None, 16352)             0         \n",
            "                                                                 \n",
            " dropout_1 (Dropout)         (None, 16352)             0         \n",
            "                                                                 \n",
            " dense_2 (Dense)             (None, 32)                523296    \n",
            "                                                                 \n",
            " dense_3 (Dense)             (None, 5)                 165       \n",
            "                                                                 \n",
            "=================================================================\n",
            "Total params: 523,589\n",
            "Trainable params: 523,589\n",
            "Non-trainable params: 0\n",
            "_________________________________________________________________\n"
          ]
        }
      ]
    },
    {
      "cell_type": "code",
      "source": [
        "plot_model(model_cnn, to_file='visualize_model.png', show_shapes=True, show_layer_names=True)"
      ],
      "metadata": {
        "colab": {
          "base_uri": "https://localhost:8080/",
          "height": 754
        },
        "id": "NgEY79T-S27G",
        "outputId": "63593fb5-6208-44fa-bf5b-6f1703c3d600"
      },
      "execution_count": null,
      "outputs": [
        {
          "output_type": "execute_result",
          "data": {
            "text/plain": [
              "<IPython.core.display.Image object>"
            ],
            "image/png": "[encoded data removed]"
          },
          "metadata": {},
          "execution_count": 137
        }
      ]
    },
    {
      "cell_type": "code",
      "source": [
        "accuracy = history.history['accuracy']\n",
        "val_accuracy = history.history['val_accuracy']\n",
        "loss = history.history['loss']\n",
        "val_loss = history.history['val_loss']\n",
        "x = range(1, len(accuracy) + 1)\n",
        "\n",
        "plt.figure(figsize=(12, 5))\n",
        "plt.subplot(1, 2, 1)\n",
        "plt.plot(x, accuracy, 'b', label='Train accuracy')\n",
        "plt.plot(x, val_accuracy, 'r', label='Validation accuracy')\n",
        "plt.title('Training and validation accuracy')\n",
        "plt.xlabel('epochs')\n",
        "plt.ylabel('accuracy')\n",
        "plt.legend()\n",
        "plt.subplot(1, 2, 2)\n",
        "plt.plot(x, loss, 'b', label='Training loss')\n",
        "plt.plot(x, val_loss, 'r', label='Validation loss')\n",
        "plt.title('Training and validation loss')\n",
        "plt.xlabel('epochs')\n",
        "plt.ylabel('loss')\n",
        "plt.legend()\n",
        "plt.suptitle('Model Evaluation', fontsize=14)\n",
        "plt.savefig('cnn_graph.png')"
      ],
      "metadata": {
        "colab": {
          "base_uri": "https://localhost:8080/",
          "height": 370
        },
        "id": "xhpzhxUKS4wy",
        "outputId": "12b87525-bedd-44b6-b3a1-6b80297bbcc8"
      },
      "execution_count": null,
      "outputs": [
        {
          "output_type": "display_data",
          "data": {
            "text/plain": [
              "<Figure size 864x360 with 2 Axes>"
            ],
            "image/png": "[encoded data removed]"
          },
          "metadata": {
            "needs_background": "light"
          }
        }
      ]
    },
    {
      "cell_type": "code",
      "source": [
        "loss_train_best, accuracy_train_best = eval_model(x_train1, y_train1, model_cnn)\n",
        "loss_test_best, accuracy_test_best = eval_model(x_test,y_test, model_cnn)"
      ],
      "metadata": {
        "id": "QrgyXagaS7Zl"
      },
      "execution_count": null,
      "outputs": []
    },
    {
      "cell_type": "code",
      "source": [
        "print('Train [{}][{}]'.format(accuracy_train_best, loss_train_best))\n",
        "print('Test [{}][{}]'.format(accuracy_test_best, loss_test_best))"
      ],
      "metadata": {
        "colab": {
          "base_uri": "https://localhost:8080/"
        },
        "id": "YIWml6qsS9Mk",
        "outputId": "1f13e20b-6388-486b-ed3a-c286ac2a05cd"
      },
      "execution_count": null,
      "outputs": [
        {
          "output_type": "stream",
          "name": "stdout",
          "text": [
            "Train [0.8566446900367737][0.44396334886550903]\n",
            "Test [0.6132404208183289][1.0150154829025269]\n"
          ]
        }
      ]
    },
    {
      "cell_type": "code",
      "source": [
        "result_classes = np.argmax(model_cnn.predict(x_test), axis=-1)"
      ],
      "metadata": {
        "id": "RvPTTKcmTABf"
      },
      "execution_count": null,
      "outputs": []
    },
    {
      "cell_type": "code",
      "source": [
        "from sklearn.metrics import accuracy_score, precision_score, recall_score, f1_score, classification_report, confusion_matrix"
      ],
      "metadata": {
        "id": "1QVE1jZXTCDQ"
      },
      "execution_count": null,
      "outputs": []
    },
    {
      "cell_type": "code",
      "source": [
        "(unique, counts) = np.unique(result_classes, return_counts=True)\n",
        " \n",
        "frequencies = np.asarray((unique, counts)).T\n",
        "frequencies"
      ],
      "metadata": {
        "colab": {
          "base_uri": "https://localhost:8080/"
        },
        "id": "15irBzyDTEBa",
        "outputId": "a87ba9ba-be41-46e6-807d-95cb3ca6f5b7"
      },
      "execution_count": null,
      "outputs": [
        {
          "output_type": "execute_result",
          "data": {
            "text/plain": [
              "array([[ 0, 33],\n",
              "       [ 1, 36],\n",
              "       [ 2, 45],\n",
              "       [ 3, 96],\n",
              "       [ 4, 77]])"
            ]
          },
          "metadata": {},
          "execution_count": 143
        }
      ]
    },
    {
      "cell_type": "code",
      "source": [
        "ground_truth = np.asarray(datatest['label'])"
      ],
      "metadata": {
        "id": "IVwc4POKTGAZ"
      },
      "execution_count": null,
      "outputs": []
    },
    {
      "cell_type": "code",
      "source": [
        "print(classification_report(ground_truth, result_classes, digits = 4))"
      ],
      "metadata": {
        "colab": {
          "base_uri": "https://localhost:8080/"
        },
        "id": "CkwXqybBTH41",
        "outputId": "cda256c9-c620-4592-832f-680685e6f624"
      },
      "execution_count": null,
      "outputs": [
        {
          "output_type": "stream",
          "name": "stdout",
          "text": [
            "              precision    recall  f1-score   support\n",
            "\n",
            "           0     0.6970    0.6389    0.6667        36\n",
            "           1     0.6389    0.4694    0.5412        49\n",
            "           2     0.4000    0.5294    0.4557        34\n",
            "           3     0.5521    0.6883    0.6127        77\n",
            "           4     0.7662    0.6484    0.7024        91\n",
            "\n",
            "    accuracy                         0.6132       287\n",
            "   macro avg     0.6108    0.5949    0.5957       287\n",
            "weighted avg     0.6350    0.6132    0.6171       287\n",
            "\n"
          ]
        }
      ]
    },
    {
      "cell_type": "code",
      "source": [
        "import seaborn as sns\n",
        " \n",
        "colormap = sns.color_palette('Blues')"
      ],
      "metadata": {
        "id": "ozL5Le6DTJ83"
      },
      "execution_count": null,
      "outputs": []
    },
    {
      "cell_type": "code",
      "source": [
        "xtick = []\n",
        "for i in range(len(result_classes)):\n",
        "  if result_classes[i] == 0:\n",
        "    xtick.append('negative')\n",
        "  elif result_classes[i] == 1:\n",
        "    xtick.append('weakly negative')\n",
        "  elif result_classes[i] == 2:\n",
        "    xtick.append('neutral')\n",
        "  elif result_classes[i] == 3:\n",
        "    xtick.append('weakly positive')\n",
        "  else:\n",
        "    xtick.append('positive')"
      ],
      "metadata": {
        "id": "XJn9FO1aTL-m"
      },
      "execution_count": null,
      "outputs": []
    },
    {
      "cell_type": "code",
      "source": [
        "code = dict(zip(datatrain['label'].unique(), datatrain['label'].unique()))\n",
        "code"
      ],
      "metadata": {
        "colab": {
          "base_uri": "https://localhost:8080/"
        },
        "id": "lYMLvr1CTOPr",
        "outputId": "12596fd2-2608-4f2d-f1d6-818f103985ea"
      },
      "execution_count": null,
      "outputs": [
        {
          "output_type": "execute_result",
          "data": {
            "text/plain": [
              "{0: 0, 1: 1, 2: 2, 3: 3, 4: 4}"
            ]
          },
          "metadata": {},
          "execution_count": 148
        }
      ]
    },
    {
      "cell_type": "code",
      "source": [
        "classes = list(code.values())\n",
        "classes"
      ],
      "metadata": {
        "colab": {
          "base_uri": "https://localhost:8080/"
        },
        "id": "SYBdUPTITQOq",
        "outputId": "d66f2f5f-80c8-47e5-e50f-82d29154e734"
      },
      "execution_count": null,
      "outputs": [
        {
          "output_type": "execute_result",
          "data": {
            "text/plain": [
              "[3, 2, 4, 1, 0]"
            ]
          },
          "metadata": {},
          "execution_count": 149
        }
      ]
    },
    {
      "cell_type": "code",
      "source": [
        "confusion_matrix(ground_truth, result_classes)"
      ],
      "metadata": {
        "colab": {
          "base_uri": "https://localhost:8080/"
        },
        "id": "Lpi_c3ERTR_r",
        "outputId": "04b00653-633c-463e-c977-281648686117"
      },
      "execution_count": null,
      "outputs": [
        {
          "output_type": "execute_result",
          "data": {
            "text/plain": [
              "array([[23,  3,  7,  2,  1],\n",
              "       [ 7, 23,  8,  9,  2],\n",
              "       [ 0,  7, 18,  6,  3],\n",
              "       [ 1,  2,  9, 53, 12],\n",
              "       [ 2,  1,  3, 26, 59]])"
            ]
          },
          "metadata": {},
          "execution_count": 150
        }
      ]
    },
    {
      "cell_type": "code",
      "source": [
        "plt.figure(figsize=(8,6))\n",
        "ax = sns.heatmap(confusion_matrix(ground_truth, result_classes), annot = True, cmap=colormap, fmt='g')\n",
        "ax.set_title('Confusion Matrix')\n",
        "ax.set_xticklabels(classes)\n",
        "ax.set_yticklabels(classes)\n",
        "ax.set(xlabel='Predicted Classes', ylabel='Actual Classes')\n",
        "ax.figure.savefig('confusion_matrix.png')"
      ],
      "metadata": {
        "colab": {
          "base_uri": "https://localhost:8080/",
          "height": 404
        },
        "id": "AP305tqFTT0m",
        "outputId": "c8b2f8ab-f764-4cc7-a3f2-3881abf0ea90"
      },
      "execution_count": null,
      "outputs": [
        {
          "output_type": "display_data",
          "data": {
            "text/plain": [
              "<Figure size 576x432 with 2 Axes>"
            ],
            "image/png": "[encoded data removed]"
          },
          "metadata": {
            "needs_background": "light"
          }
        }
      ]
    }
  ]
}